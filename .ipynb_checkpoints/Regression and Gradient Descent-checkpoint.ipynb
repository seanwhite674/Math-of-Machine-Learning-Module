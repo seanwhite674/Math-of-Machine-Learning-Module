{
 "cells": [
  {
   "cell_type": "markdown",
   "id": "c16ee2cf",
   "metadata": {},
   "source": [
    "# Regression and Gradient Descent\n",
    "\n",
    "Before we start, let's load some packages: [numpy](https://numpy.org) (for matrix manipulations), [cvxpy](https://www.cvxpy.org) (convex optimisation) and [matplotlib](https://matplotlib.org) (plotting).\n",
    "\n",
    "Note: if you are using anaconda python you may not have cvxpy installed by default. Install it using the command ``conda install -c conda-forge cvxpy``. You may also need to install matplotlib using ``conda install matplotlib``."
   ]
  },
  {
   "cell_type": "code",
   "execution_count": 90,
   "id": "fa912aa8",
   "metadata": {},
   "outputs": [],
   "source": [
    "import numpy as np\n",
    "from cvxpy import *\n",
    "import cvxpy as cp\n",
    "import matplotlib.pyplot as plt\n",
    "import numpy.linalg as npl"
   ]
  },
  {
   "cell_type": "markdown",
   "id": "5d78f3ac",
   "metadata": {},
   "source": [
    "## Analysing a dataset\n",
    "\n",
    "Imagine we have some data taken from an experiment and we would like to find a model that fits the data well.\n",
    "\n",
    "Here is some data I took earlier. Can you figure out a good model for this data? How would you verify that your model is a good fit for the data?"
   ]
  },
  {
   "cell_type": "code",
   "execution_count": 93,
   "id": "d1318e89",
   "metadata": {},
   "outputs": [],
   "source": [
    "data = np.array([\n",
    " [0.0, 3.35982],\n",
    " [0.5, 4.45784],\n",
    " [1.0, 4.98725],\n",
    " [1.5, 5.92751],\n",
    " [2.0, 6.99903],\n",
    " [2.5, 8.37272],\n",
    " [3.0, 9.22212],\n",
    " [3.5, 9.72170],\n",
    " [4.0, 11.0244],\n",
    " [4.5, 11.7995],\n",
    " [5.0, 13.0831]])"
   ]
  },
  {
   "cell_type": "markdown",
   "id": "583e1c76",
   "metadata": {},
   "source": [
    "The first thing we should do is try to plot the data to see if we can recognise anything"
   ]
  },
  {
   "cell_type": "code",
   "execution_count": 96,
   "id": "658ff4bd",
   "metadata": {},
   "outputs": [
    {
     "data": {
      "image/png": "[encoded data removed]",
      "text/plain": [
       "<Figure size 640x480 with 1 Axes>"
      ]
     },
     "metadata": {},
     "output_type": "display_data"
    }
   ],
   "source": [
    "p1 = plt.plot(data[:,0],data[:,1],'o')\n",
    "plt.xlabel('x')\n",
    "plt.ylabel('y')\n",
    "plt.show()"
   ]
  },
  {
   "cell_type": "markdown",
   "id": "583231f7",
   "metadata": {},
   "source": [
    "If we have a good idea for a model that might fit the data, then we can use _regression_ to look for the parameters that best fit the data. In this case it looks like we should consider a straight line $y(x)= \\beta_1 x + \\beta_0$ as a model. To fit the model to the data, we can use our data samples to write an (overdetermined) linear system of equations $ X \\beta = y$, where\n",
    "$$ X = \\begin{pmatrix} 1 & x_1 \\\\ \\vdots & \\vdots \\\\ 1 & x_n \\end{pmatrix}, \\quad y = \\begin{pmatrix} y_1 \\\\ \\vdots \\\\ y_n \\end{pmatrix}, \\quad \\beta = \\begin{pmatrix} \\beta_0 \\\\ \\beta_1 \\end{pmatrix}$$\n",
    "The matrix $X$ is an example where we have many rows but only two columns so this is an **over-constrained** problem (equivalently, the points don't all sit exactly on a line). As such we won't be able to find a perfect solution ($y$ is not in the column space of $X$). Instead, we can try to find the line that \"best\" fits the data. If we define \"best\" to mean the line that minimises the square of the 2-norm $||X\\beta - y||^2$ then this leads us to regression, in which we instead solve the system $X^T X \\beta = X^T y$, which does have a solution for $\\beta_0$ and $\\beta_1$. \n",
    "\n",
    "To formulate this as an optimisation problem, consider the system of equations:\n",
    "$$ y = X \\begin{pmatrix} a \\\\ b \\end{pmatrix} + \\epsilon$$\n",
    "where $\\epsilon$ is a vector of vertical distances of the points from the best fit line.\n",
    "Then, the optimisation problem is\n",
    "$$\\min_{\\beta} || \\epsilon ||^2$$\n",
    "\n",
    "The optimisation problem can be easily solved via the gradient descent method.\n",
    "The idea is to start from a given approximation $\\beta^{(0)}$ and to update it following the direction of the antigradient, which is the direction of steepest descent of the objective function at each point. The process generates a sequence of solution estimates $\\{\\beta^{(k)}\\}$ which, under certain hypotheses, converges to the true solution.\n",
    "\n",
    "First, let's construct the matrix $X$ and vector $y$:"
   ]
  },
  {
   "cell_type": "code",
   "execution_count": 99,
   "id": "13f897be-3d4d-4574-b7ff-297bdc5c883c",
   "metadata": {},
   "outputs": [
    {
     "name": "stdout",
     "output_type": "stream",
     "text": [
      "[[1.  0. ]\n",
      " [1.  0.5]\n",
      " [1.  1. ]\n",
      " [1.  1.5]\n",
      " [1.  2. ]\n",
      " [1.  2.5]\n",
      " [1.  3. ]\n",
      " [1.  3.5]\n",
      " [1.  4. ]\n",
      " [1.  4.5]\n",
      " [1.  5. ]] [ 3.35982  4.45784  4.98725  5.92751  6.99903  8.37272  9.22212  9.7217\n",
      " 11.0244  11.7995  13.0831 ]\n"
     ]
    }
   ],
   "source": [
    "n = data.shape[0]\n",
    "X = np.concatenate((np.ones((n,1)),data[:,0:1]),axis=1)\n",
    "y = data[:,1]\n",
    "print(X,y)"
   ]
  },
  {
   "cell_type": "markdown",
   "id": "708254dd",
   "metadata": {},
   "source": [
    "## Tasks\n",
    "\n",
    "1. Solve this using gradient descent with the optimal step-size.\n",
    "2. Solve this problem using cvxpy."
   ]
  },
  {
   "cell_type": "markdown",
   "id": "9e4235ee",
   "metadata": {},
   "source": [
    "### Task 1"
   ]
  },
  {
   "cell_type": "code",
   "execution_count": 129,
   "id": "30290787-451b-4186-9d06-9287534b04a2",
   "metadata": {},
   "outputs": [
    {
     "name": "stdout",
     "output_type": "stream",
     "text": [
      "[0.853019   2.64033124]\n",
      "[3.19936164 1.88229194]\n",
      "[3.21853056 1.94162508]\n"
     ]
    }
   ],
   "source": [
    "N=3\n",
    "for i in range(0,N):\n",
    "    if (i==0):\n",
    "        B = np.array([0,0])\n",
    "    else :\n",
    "        B = Bnew\n",
    "    rk = -(X.T@X@B - X.T@y)\n",
    "    #print(rk)\n",
    "    \n",
    "    alpha = npl.norm(rk)**2/npl.norm(X@rk)**2\n",
    "    #print(alpha)\n",
    "    \n",
    "    Bnew = B +alpha*rk\n",
    "    print(Bnew)\n",
    "\n",
    "#Bnew = B+alpha@rk"
   ]
  },
  {
   "cell_type": "markdown",
   "id": "ce21da1a-1f00-4fa7-8231-108bf39a4a26",
   "metadata": {},
   "source": [
    "# His answer"
   ]
  },
  {
   "cell_type": "code",
   "execution_count": 132,
   "id": "ffcf288b-7c3a-42fa-a6c5-3f26b25a5e06",
   "metadata": {},
   "outputs": [],
   "source": [
    "XT = X.T"
   ]
  },
  {
   "cell_type": "code",
   "execution_count": 134,
   "id": "fd4bcffe-abb7-4121-b529-9ccb26cd40b2",
   "metadata": {},
   "outputs": [],
   "source": [
    "beta0 = np.array([0,0])"
   ]
  },
  {
   "cell_type": "code",
   "execution_count": 136,
   "id": "3ff0cd48-919f-4a47-b905-54cae246a350",
   "metadata": {},
   "outputs": [
    {
     "data": {
      "text/plain": [
       "array([ -88.95499 , -275.340455])"
      ]
     },
     "execution_count": 136,
     "metadata": {},
     "output_type": "execute_result"
    }
   ],
   "source": [
    "r0 = -( XT @ X @ beta0 -XT@y)\n",
    "r0"
   ]
  },
  {
   "cell_type": "code",
   "execution_count": 140,
   "id": "c815a50d-eb70-4b73-b3a4-a5155558adc0",
   "metadata": {},
   "outputs": [
    {
     "data": {
      "text/plain": [
       "0.009589332742896915"
      ]
     },
     "execution_count": 140,
     "metadata": {},
     "output_type": "execute_result"
    }
   ],
   "source": [
    "alpha0 = (npl.norm(r0)/npl.norm(X@r0))**2\n",
    "alpha0"
   ]
  },
  {
   "cell_type": "code",
   "execution_count": 142,
   "id": "521be09d-40a5-427f-9a6c-a1c136f835c5",
   "metadata": {},
   "outputs": [
    {
     "data": {
      "text/plain": [
       "array([-0.853019  , -2.64033124])"
      ]
     },
     "execution_count": 142,
     "metadata": {},
     "output_type": "execute_result"
    }
   ],
   "source": [
    "beta1 = beta0 + alpha0*r0\n",
    "beta1"
   ]
  },
  {
   "cell_type": "code",
   "execution_count": 146,
   "id": "103a9bb1-deff-4a47-a137-050fa85f6f6c",
   "metadata": {},
   "outputs": [
    {
     "data": {
      "text/plain": [
       "[array([-0.853019  , -2.64033124]),\n",
       " array([0.78545849, 2.65933658]),\n",
       " array([2.42393598, 7.95900439]),\n",
       " array([0.92318416, 2.61686598])]"
      ]
     },
     "execution_count": 146,
     "metadata": {},
     "output_type": "execute_result"
    }
   ],
   "source": [
    "r1 = -XT @ X @ beta1 + XT @y\n",
    "alpha1 = (npl.norm(r1) / npl.norm(X@r1))**2\n",
    "beta2 = beta1 + alpha1*r1\n",
    "\n",
    "r2 = -XT @ X @ beta1 + XT @y\n",
    "alpha2 = (npl.norm(r2) / npl.norm(X@r2))**2\n",
    "beta3 = beta2 + alpha2*r2\n",
    "\n",
    "r3 = -XT @ X @ beta3 + XT @y\n",
    "alpha3 = (npl.norm(r3) / npl.norm(X@r3))**2\n",
    "beta4 = beta3 + alpha3*r3\n",
    "\n",
    "[beta1,beta2,beta3,beta4]"
   ]
  },
  {
   "cell_type": "code",
   "execution_count": 154,
   "id": "3671ba8f-0467-458a-b7d8-0ae9619fb593",
   "metadata": {},
   "outputs": [
    {
     "data": {
      "text/plain": [
       "[<matplotlib.lines.Line2D at 0x15e9af6fbf0>]"
      ]
     },
     "execution_count": 154,
     "metadata": {},
     "output_type": "execute_result"
    },
    {
     "data": {
      "image/png": "[encoded data removed]",
      "text/plain": [
       "<Figure size 640x480 with 1 Axes>"
      ]
     },
     "metadata": {},
     "output_type": "display_data"
    }
   ],
   "source": [
    "steps = np.array([beta1,beta2,beta3,beta4])\n",
    "plt.plot(steps[:,0])"
   ]
  },
  {
   "cell_type": "markdown",
   "id": "31a66119",
   "metadata": {},
   "source": [
    "### Task 2"
   ]
  },
  {
   "cell_type": "code",
   "execution_count": 157,
   "id": "79e9a433-870b-4b18-9127-e05b12c6f9f2",
   "metadata": {},
   "outputs": [
    {
     "name": "stdout",
     "output_type": "stream",
     "text": [
      "status:  optimal\n",
      "Optimal values: 0.4226319631854529\n",
      "Optimal variables: 3.2729100000000004 1.9255629090909088\n"
     ]
    }
   ],
   "source": [
    "Beta = Variable(2)\n",
    "\n",
    "objective = Minimize(sum(square(X@Beta - y)))\n",
    "\n",
    "prob = Problem(objective)\n",
    "prob.solve()\n",
    "\n",
    "print(\"status: \",prob.status)\n",
    "print(\"Optimal values:\",prob.value)\n",
    "print(\"Optimal variables:\", Beta[0].value,Beta[1].value)"
   ]
  },
  {
   "cell_type": "code",
   "execution_count": null,
   "id": "f71b6142-a1ff-4fec-8dd0-52eb7fa015ea",
   "metadata": {},
   "outputs": [],
   "source": [
    "/"
   ]
  }
 ],
 "metadata": {
  "kernelspec": {
   "display_name": "Python 3 (ipykernel)",
   "language": "python",
   "name": "python3"
  },
  "language_info": {
   "codemirror_mode": {
    "name": "ipython",
    "version": 3
   },
   "file_extension": ".py",
   "mimetype": "text/x-python",
   "name": "python",
   "nbconvert_exporter": "python",
   "pygments_lexer": "ipython3",
   "version": "3.12.3"
  }
 },
 "nbformat": 4,
 "nbformat_minor": 5
}
