{
 "cells": [
  {
   "cell_type": "code",
   "execution_count": 1,
   "id": "b1a8a0ec-fc9e-4178-bd57-fa988b784f6f",
   "metadata": {},
   "outputs": [],
   "source": [
    "import numpy as np\n",
    "import numpy.linalg as npl\n",
    "import matplotlib.pyplot as plt\n",
    "import cvxpy as cp"
   ]
  },
  {
   "cell_type": "markdown",
   "id": "02cd48bd-8a29-4b4e-ba10-425e010bfcd5",
   "metadata": {},
   "source": [
    "# Q1 part 1\n",
    "### Q12 in book"
   ]
  },
  {
   "cell_type": "code",
   "execution_count": 3,
   "id": "9c52fc48-2bfe-4eb1-b21d-df180982a61b",
   "metadata": {},
   "outputs": [
    {
     "data": {
      "text/plain": [
       "array([[1., 0.],\n",
       "       [1., 1.],\n",
       "       [1., 3.],\n",
       "       [1., 4.]])"
      ]
     },
     "execution_count": 3,
     "metadata": {},
     "output_type": "execute_result"
    }
   ],
   "source": [
    "b=np.array([0,8,8,20])\n",
    "N = len(b)\n",
    "t = np.array([0,1,3,4])\n",
    "a1 = np.ones(N)\n",
    "A = np.array([a1,t]).T\n",
    "A"
   ]
  },
  {
   "cell_type": "code",
   "execution_count": 4,
   "id": "010269e7-23d8-4508-aa06-7523ae0f3ade",
   "metadata": {},
   "outputs": [
    {
     "name": "stdout",
     "output_type": "stream",
     "text": [
      "ATA = array([[ 4.,  8.],\n",
      "       [ 8., 26.]])\n",
      "ATb = array([ 36., 112.])\n"
     ]
    }
   ],
   "source": [
    "ATA = A.T@A\n",
    "ATb = A.T@b\n",
    "print(\"ATA = %a\"%ATA)\n",
    "print(\"ATb = %a\"%ATb)"
   ]
  },
  {
   "cell_type": "code",
   "execution_count": 5,
   "id": "56ade30c-2b4a-4bec-a23c-94829e37aeba",
   "metadata": {},
   "outputs": [
    {
     "data": {
      "text/plain": [
       "(1.0, 4.0)"
      ]
     },
     "execution_count": 5,
     "metadata": {},
     "output_type": "execute_result"
    }
   ],
   "source": [
    "sols = npl.solve(ATA,ATb)\n",
    "# solve using RRE\n",
    "C = sols[0]\n",
    "D = sols[1]\n",
    "(C,D)"
   ]
  },
  {
   "cell_type": "code",
   "execution_count": 6,
   "id": "c9e5d217-ac47-4f03-acf9-49f9bc9b2c15",
   "metadata": {},
   "outputs": [
    {
     "data": {
      "text/plain": [
       "array([ 1.,  5., 13., 17.])"
      ]
     },
     "execution_count": 6,
     "metadata": {},
     "output_type": "execute_result"
    }
   ],
   "source": [
    "# line of best fit in form  C*a1 + D*t\n",
    "# let points of best fit = p\n",
    "p = C*a1+D*t\n",
    "p"
   ]
  },
  {
   "cell_type": "code",
   "execution_count": 7,
   "id": "fdd8094a-68d4-4e71-98b7-5c3882fc1b06",
   "metadata": {},
   "outputs": [
    {
     "data": {
      "text/plain": [
       "<matplotlib.legend.Legend at 0x20f6da84a70>"
      ]
     },
     "execution_count": 7,
     "metadata": {},
     "output_type": "execute_result"
    },
    {
     "data": {
      "image/png": "[encoded data removed]",
      "text/plain": [
       "<Figure size 640x480 with 1 Axes>"
      ]
     },
     "metadata": {},
     "output_type": "display_data"
    }
   ],
   "source": [
    "# let points of best fit = p\n",
    "plt.plot(t,p,label = 'line of best fit',c='b')\n",
    "plt.plot(t,p,'.',label = 'points of best fit',color='black')\n",
    "#plt.plot(t,b)\n",
    "plt.scatter(t,b,label = 'true points',c='r')\n",
    "plt.legend()"
   ]
  },
  {
   "cell_type": "code",
   "execution_count": 8,
   "id": "f059c9a2-1bbd-400e-8b39-0f0f12ea4dad",
   "metadata": {},
   "outputs": [
    {
     "name": "stdout",
     "output_type": "stream",
     "text": [
      "The minimum squared error = 44.0\n"
     ]
    }
   ],
   "source": [
    "# let error array = e\n",
    "esqrd = np.zeros(N)\n",
    "minsqrerror = 0\n",
    "for i in range(0,N):\n",
    "    e = b[i]-p[i]\n",
    "    esqrd[i] = e**2\n",
    "    minsqrerror += esqrd[i]\n",
    "print(\"The minimum squared error = %0.1f\"%minsqrerror)"
   ]
  },
  {
   "cell_type": "code",
   "execution_count": 9,
   "id": "b026653e-02bb-4deb-ac06-37d26ee9c05b",
   "metadata": {},
   "outputs": [
    {
     "data": {
      "text/plain": [
       "array([ 1.,  9., 25.,  9.])"
      ]
     },
     "execution_count": 9,
     "metadata": {},
     "output_type": "execute_result"
    }
   ],
   "source": [
    "esqrd"
   ]
  },
  {
   "cell_type": "markdown",
   "id": "155c05e9-b2db-4b8c-8c0c-1f03756c942b",
   "metadata": {},
   "source": [
    "# Q1 part2\n",
    "### Q18 in book"
   ]
  },
  {
   "cell_type": "code",
   "execution_count": 11,
   "id": "9784ba11-abbe-41fc-8e68-fe7331a5e04d",
   "metadata": {},
   "outputs": [],
   "source": [
    "A = np.array([0,1,3,4])\n",
    "b = np.array([0,8,8,20])"
   ]
  },
  {
   "cell_type": "code",
   "execution_count": 12,
   "id": "17d0afb5-d44e-4e3b-ac32-f7eee6d7d4d1",
   "metadata": {},
   "outputs": [
    {
     "data": {
      "text/plain": [
       "(26, 112)"
      ]
     },
     "execution_count": 12,
     "metadata": {},
     "output_type": "execute_result"
    }
   ],
   "source": [
    "ATA = A.T@A\n",
    "ATb = A.T@b\n",
    "(ATA,ATb)"
   ]
  },
  {
   "cell_type": "code",
   "execution_count": 13,
   "id": "9285db79-30a0-48b3-9b1e-a0dfa26444a9",
   "metadata": {},
   "outputs": [
    {
     "data": {
      "text/plain": [
       "4.3076923076923075"
      ]
     },
     "execution_count": 13,
     "metadata": {},
     "output_type": "execute_result"
    }
   ],
   "source": [
    "D = ATb/ATA\n",
    "D\n",
    "## This is D"
   ]
  },
  {
   "cell_type": "code",
   "execution_count": 14,
   "id": "a42e6c49-e9d8-46d8-9bc8-f519278199fd",
   "metadata": {},
   "outputs": [
    {
     "data": {
      "text/plain": [
       "array([ 0.        ,  4.30769231, 12.92307692, 17.23076923])"
      ]
     },
     "execution_count": 14,
     "metadata": {},
     "output_type": "execute_result"
    }
   ],
   "source": [
    "p = A*D\n",
    "p"
   ]
  },
  {
   "cell_type": "code",
   "execution_count": 15,
   "id": "1feb9963-59ef-493d-b836-3f1cc8dd0e14",
   "metadata": {},
   "outputs": [
    {
     "data": {
      "text/plain": [
       "<matplotlib.legend.Legend at 0x20f6e324320>"
      ]
     },
     "execution_count": 15,
     "metadata": {},
     "output_type": "execute_result"
    },
    {
     "data": {
      "image/png": "[encoded data removed]",
      "text/plain": [
       "<Figure size 640x480 with 1 Axes>"
      ]
     },
     "metadata": {},
     "output_type": "display_data"
    }
   ],
   "source": [
    "plt.plot(t,p,c='b',label='line of best fit')\n",
    "plt.plot(t,p,'.',c='black',label = 'points of best fit')\n",
    "plt.scatter(t,b,c='r',label ='true points')\n",
    "plt.legend()"
   ]
  },
  {
   "cell_type": "code",
   "execution_count": 16,
   "id": "f10ec433-da20-493b-990d-bde914256547",
   "metadata": {},
   "outputs": [
    {
     "name": "stdout",
     "output_type": "stream",
     "text": [
      "The minimum squared error = 45.5\n"
     ]
    },
    {
     "data": {
      "text/plain": [
       "array([ 0.        , 13.63313609, 24.23668639,  7.66863905])"
      ]
     },
     "execution_count": 16,
     "metadata": {},
     "output_type": "execute_result"
    }
   ],
   "source": [
    "# let error array = e\n",
    "esqrd = np.zeros(N)\n",
    "minsqrerror = 0\n",
    "for i in range(0,N):\n",
    "    e = b[i]-p[i]\n",
    "    esqrd[i] = e**2\n",
    "    minsqrerror += esqrd[i]\n",
    "print(\"The minimum squared error = %0.1f\"%minsqrerror)\n",
    "esqrd"
   ]
  },
  {
   "cell_type": "markdown",
   "id": "8a1a5adf-8464-4d7f-81b8-e0db6424e5c2",
   "metadata": {},
   "source": [
    "# Q1 part 3\n",
    "### Q20 in book"
   ]
  },
  {
   "cell_type": "code",
   "execution_count": 18,
   "id": "79e6b817-6299-400c-ac9c-b8d32d5244d7",
   "metadata": {},
   "outputs": [
    {
     "data": {
      "text/plain": [
       "array([[ 1.,  0.,  0.],\n",
       "       [ 1.,  1.,  1.],\n",
       "       [ 1.,  3.,  9.],\n",
       "       [ 1.,  4., 16.]])"
      ]
     },
     "execution_count": 18,
     "metadata": {},
     "output_type": "execute_result"
    }
   ],
   "source": [
    "A = np.array([a1,t,t**2]).T\n",
    "A"
   ]
  },
  {
   "cell_type": "code",
   "execution_count": 19,
   "id": "055a55d7-ef9e-464d-a681-2f46580f652a",
   "metadata": {},
   "outputs": [
    {
     "data": {
      "text/plain": [
       "(array([[  4.,   8.,  26.],\n",
       "        [  8.,  26.,  92.],\n",
       "        [ 26.,  92., 338.]]),\n",
       " array([ 36., 112., 400.]))"
      ]
     },
     "execution_count": 19,
     "metadata": {},
     "output_type": "execute_result"
    }
   ],
   "source": [
    "ATA = A.T@A\n",
    "ATb = A.T@b\n",
    "(ATA,ATb)"
   ]
  },
  {
   "cell_type": "code",
   "execution_count": 20,
   "id": "d587771f-9f4d-447f-a331-d184a00177e3",
   "metadata": {},
   "outputs": [],
   "source": [
    "sols = npl.solve(ATA,ATb)\n",
    "C = sols[0]\n",
    "D = sols[1]\n",
    "E = sols[2]\n",
    "# Set up your normal equations\n",
    "# Multiply it out"
   ]
  },
  {
   "cell_type": "code",
   "execution_count": 21,
   "id": "ec3fd061-c26a-4bb6-b649-488bb440a069",
   "metadata": {},
   "outputs": [
    {
     "data": {
      "text/plain": [
       "array([ 2.,  4., 12., 18.])"
      ]
     },
     "execution_count": 21,
     "metadata": {},
     "output_type": "execute_result"
    }
   ],
   "source": [
    "p = a1*C + t*D + t**2*E\n",
    "p"
   ]
  },
  {
   "cell_type": "code",
   "execution_count": 22,
   "id": "1a4c57da-dfa7-4663-9079-4739417cd6c7",
   "metadata": {},
   "outputs": [
    {
     "data": {
      "text/plain": [
       "<matplotlib.legend.Legend at 0x20f6e430fb0>"
      ]
     },
     "execution_count": 22,
     "metadata": {},
     "output_type": "execute_result"
    },
    {
     "data": {
      "image/png": "[encoded data removed]",
      "text/plain": [
       "<Figure size 640x480 with 1 Axes>"
      ]
     },
     "metadata": {},
     "output_type": "display_data"
    }
   ],
   "source": [
    "plt.plot(t,p,c='b',label='line of best fit')\n",
    "plt.plot(t,p,'.',label = 'points of best fit',c='black')\n",
    "plt.scatter(t,b,c='r',label = 'true points')\n",
    "plt.legend()"
   ]
  },
  {
   "cell_type": "code",
   "execution_count": 23,
   "id": "ebf54e2f-573c-4706-a2ec-26cb1fa1413f",
   "metadata": {},
   "outputs": [
    {
     "name": "stdout",
     "output_type": "stream",
     "text": [
      "The minimum squared error = 40.0\n"
     ]
    },
    {
     "data": {
      "text/plain": [
       "array([ 4., 16., 16.,  4.])"
      ]
     },
     "execution_count": 23,
     "metadata": {},
     "output_type": "execute_result"
    }
   ],
   "source": [
    "# let error array = e\n",
    "esqrd = np.zeros(N)\n",
    "minsqrerror = 0\n",
    "for i in range(0,N):\n",
    "    e = b[i]-p[i]\n",
    "    esqrd[i] = e**2\n",
    "    minsqrerror += esqrd[i]\n",
    "print(\"The minimum squared error = %0.1f\"%minsqrerror)\n",
    "esqrd"
   ]
  },
  {
   "cell_type": "markdown",
   "id": "8658f74e-e1bb-4593-980d-5287281fb0a7",
   "metadata": {},
   "source": [
    "# Q2\n",
    "### part a"
   ]
  },
  {
   "cell_type": "code",
   "execution_count": 25,
   "id": "bf96cb7a-3142-464a-8c4c-bc57cdbea8c6",
   "metadata": {},
   "outputs": [
    {
     "name": "stdout",
     "output_type": "stream",
     "text": [
      "[-2. -1.  1.  2.] [-9. -1. -1. 11.]\n"
     ]
    },
    {
     "data": {
      "text/plain": [
       "array([[-2., -1.,  1.,  2.],\n",
       "       [-9., -1., -1., 11.]])"
      ]
     },
     "execution_count": 25,
     "metadata": {},
     "output_type": "execute_result"
    }
   ],
   "source": [
    "b=np.array([0,8,8,20])\n",
    "t = np.array([0,1,3,4])\n",
    "N = len(b)\n",
    "# We have that the rows are samples, columns are variables\n",
    "t = t-np.mean(t)\n",
    "b = b-np.mean(b)\n",
    "print(t,b)\n",
    "A= np.array([t,b])\n",
    "A"
   ]
  },
  {
   "cell_type": "code",
   "execution_count": 26,
   "id": "8e5831d6-3b7d-4502-8b1c-1d43bcf9b3e4",
   "metadata": {},
   "outputs": [
    {
     "name": "stdout",
     "output_type": "stream",
     "text": [
      "SVDResult(U=array([[ 0.19431856, -0.98093848],\n",
      "       [ 0.98093848,  0.19431856]]), S=array([14.5576022 ,  1.44090879]), Vh=array([[-0.63314571, -0.0807315 , -0.05403499,  0.7679122 ],\n",
      "       [ 0.14783024,  0.5459193 , -0.81563597,  0.12188644],\n",
      "       [ 0.06941926,  0.7964291 ,  0.57273376,  0.18126693],\n",
      "       [ 0.7566067 , -0.24729586,  0.06159724,  0.60216015]]))\n"
     ]
    },
    {
     "data": {
      "text/plain": [
       "EigResult(eigenvalues=array([  2.07621814, 211.92378186]), eigenvectors=array([[-0.98093848, -0.19431856],\n",
       "       [ 0.19431856, -0.98093848]]))"
      ]
     },
     "execution_count": 26,
     "metadata": {},
     "output_type": "execute_result"
    }
   ],
   "source": [
    "AAT = A@A.T\n",
    "print(npl.svd(A))\n",
    "npl.eig(AAT)"
   ]
  },
  {
   "cell_type": "code",
   "execution_count": 27,
   "id": "f8bd94d0-7fc3-4185-97bf-af6e6c4d1603",
   "metadata": {},
   "outputs": [
    {
     "name": "stdout",
     "output_type": "stream",
     "text": [
      "[-2. -1.  1.  2.] [-10.096152  -5.048076   5.048076  10.096152]\n"
     ]
    },
    {
     "data": {
      "image/png": "[encoded data removed]",
      "text/plain": [
       "<Figure size 640x480 with 1 Axes>"
      ]
     },
     "metadata": {},
     "output_type": "display_data"
    }
   ],
   "source": [
    "def y(x):\n",
    "    return 5.048076*x\n",
    "plt.plot(t,y(t),'.')\n",
    "plt.plot(t,y(t))\n",
    "plt.plot(t,b,'.')\n",
    "y = y(t)\n",
    "print(t,y)"
   ]
  },
  {
   "cell_type": "code",
   "execution_count": 28,
   "id": "ed54036e-c9d9-4c4f-8e0d-85910d49d97e",
   "metadata": {},
   "outputs": [],
   "source": [
    "b=np.array([0,8,8,20])\n",
    "t = np.array([0,1,3,4])\n",
    "N = len(b)\n",
    "# We have that the rows are samples, columns are variables\n",
    "t = t-np.mean(t)\n",
    "b = b-np.mean(b)\n",
    "A= np.array([t,b]).T"
   ]
  },
  {
   "cell_type": "code",
   "execution_count": 29,
   "id": "ad7a4d8c-738d-4772-b9a1-daeb727b96f7",
   "metadata": {},
   "outputs": [
    {
     "name": "stdout",
     "output_type": "stream",
     "text": [
      "The minimum squared error = 55.0\n"
     ]
    },
    {
     "data": {
      "text/plain": [
       "array([ 1.20154921, 16.3869193 , 36.5792233 ,  0.81694121])"
      ]
     },
     "execution_count": 29,
     "metadata": {},
     "output_type": "execute_result"
    }
   ],
   "source": [
    "# let error array = e\n",
    "N = A.shape[0]\n",
    "esqrd = np.zeros(N)\n",
    "minsqrerror = 0\n",
    "for i in range(0,N):\n",
    "    e = b[i]-y[i]\n",
    "    esqrd[i] = e**2\n",
    "    minsqrerror += esqrd[i]\n",
    "print(\"The minimum squared error = %0.1f\"%minsqrerror)\n",
    "esqrd"
   ]
  },
  {
   "cell_type": "markdown",
   "id": "b49e3b24-d56d-4030-a7d9-e746c8b286c7",
   "metadata": {},
   "source": [
    "# Q3\n",
    "### part 1"
   ]
  },
  {
   "cell_type": "code",
   "execution_count": 31,
   "id": "7d48613a-c84d-4922-aa7e-19f68140868f",
   "metadata": {},
   "outputs": [
    {
     "data": {
      "text/plain": [
       "[<matplotlib.lines.Line2D at 0x20f6e6f3560>]"
      ]
     },
     "execution_count": 31,
     "metadata": {},
     "output_type": "execute_result"
    },
    {
     "data": {
      "image/png": "[encoded data removed]",
      "text/plain": [
       "<Figure size 640x480 with 1 Axes>"
      ]
     },
     "metadata": {},
     "output_type": "display_data"
    }
   ],
   "source": [
    "plus = np.array([[-1,2],[-3,3],[-4,3]])\n",
    "minus = np.array([[3,-2],[3,-4],[4,-3]])\n",
    "plt.plot(plus[:,0],plus[:,1],'.',c='b')\n",
    "plt.plot(minus[:,0],minus[:,1],'.',c='r')"
   ]
  },
  {
   "cell_type": "code",
   "execution_count": 32,
   "id": "65cdd79c-e850-4b31-9f00-8819941516c8",
   "metadata": {},
   "outputs": [
    {
     "name": "stdout",
     "output_type": "stream",
     "text": [
      "status: optimal\n",
      "optimal value 0.12499999999999999\n",
      "optimal var [-0.25] [0.25] 0.24999999999999992\n"
     ]
    }
   ],
   "source": [
    "# Create two scalar optimization variables.\n",
    "w = cp.Variable((2,1))\n",
    "b= cp.Variable()\n",
    "\n",
    "# Create two constraints.\n",
    "constraints = [plus@w + b >= 1,\n",
    "               minus@w + b <= -1]\n",
    "\n",
    "# Form objective.\n",
    "obj = cp.Minimize(cp.sum(cp.square(w)))\n",
    "\n",
    "#Form and solve problem.\n",
    "prob = cp.Problem(obj, constraints)\n",
    "prob.solve()  # Returns the optimal value.\n",
    "print(\"status:\", prob.status)\n",
    "print(\"optimal value\", prob.value)\n",
    "print(\"optimal var\", w[0].value, w[1].value,b.value)"
   ]
  },
  {
   "cell_type": "code",
   "execution_count": 33,
   "id": "9612bd41-42e8-4d1a-80e3-cc03bdfd09da",
   "metadata": {},
   "outputs": [],
   "source": [
    "[w1,w2] = [-0.25,0.25]\n",
    "b=0.249999\n",
    "#[w1,w2] = [0,0.5]\n",
    "#b=0"
   ]
  },
  {
   "cell_type": "code",
   "execution_count": 34,
   "id": "3514919e-63e6-4e06-9ff2-1132df5f605b",
   "metadata": {},
   "outputs": [
    {
     "data": {
      "image/png": "[encoded data removed]",
      "text/plain": [
       "<Figure size 640x480 with 1 Axes>"
      ]
     },
     "metadata": {},
     "output_type": "display_data"
    }
   ],
   "source": [
    "plt.axline([0,(-b+(0))/w2], [1,(-1*w1-b+(0))/w2],color='black')\n",
    "plt.axline([0,(-b+(+1))/w2], [1,(-1*w1-b+(+1))/w2],color='green')\n",
    "plt.axline([0,(-b+(+-1))/w2], [1,(-1*w1-b+(+-1))/w2],color='green')\n",
    "plt.plot(plus[:,0],plus[:,1],'.',c='b')\n",
    "plt.plot(minus[:,0],minus[:,1],'.',c='r')\n",
    "plt.show()"
   ]
  },
  {
   "cell_type": "code",
   "execution_count": 35,
   "id": "baf65307-24f6-4be5-9f12-969a75b27f6e",
   "metadata": {},
   "outputs": [],
   "source": [
    "X=np.concatenate((plus,-minus))\n",
    "N = X.shape[0]\n",
    "y = np.concatenate((np.ones(plus.shape[0]),-np.ones(minus.shape[0])))\n",
    "e = np.ones(N)"
   ]
  },
  {
   "cell_type": "code",
   "execution_count": 36,
   "id": "7b251d38-de58-41a5-8d4a-f5026dafb309",
   "metadata": {},
   "outputs": [
    {
     "data": {
      "text/plain": [
       "-0.0625"
      ]
     },
     "execution_count": 36,
     "metadata": {},
     "output_type": "execute_result"
    }
   ],
   "source": [
    "lam = cp.Variable((N,1))\n",
    "\n",
    "obj = cp.Minimize(0.5*cp.quad_form(lam, X@X.T, assume_PSD = True)-e@lam)\n",
    "\n",
    "cons = [lam>=0, y.T@lam ==0 ]\n",
    "\n",
    "prob = cp.Problem(obj, cons)\n",
    "prob.solve()"
   ]
  },
  {
   "cell_type": "code",
   "execution_count": 37,
   "id": "3214610b-ac23-4c95-af2e-6022f0c63e36",
   "metadata": {},
   "outputs": [
    {
     "name": "stdout",
     "output_type": "stream",
     "text": [
      "status: optimal\n",
      "optimal value: -0.0625\n",
      "optimal var: [[ 6.25000000e-02]\n",
      " [ 9.21711175e-24]\n",
      " [-1.74585002e-24]\n",
      " [ 6.25000000e-02]\n",
      " [ 8.98227283e-24]\n",
      " [ 8.99320212e-24]]\n"
     ]
    }
   ],
   "source": [
    "print(\"status:\", prob.status)\n",
    "print(\"optimal value:\", prob.value)\n",
    "print(\"optimal var:\", lam.value)"
   ]
  },
  {
   "cell_type": "markdown",
   "id": "6781d771-05a6-483c-b78f-9a6319ac69e4",
   "metadata": {},
   "source": [
    "# Q3\n",
    "### Part 2"
   ]
  },
  {
   "cell_type": "code",
   "execution_count": 39,
   "id": "be6801a2-fd46-4037-97d2-79f532f2109c",
   "metadata": {},
   "outputs": [
    {
     "data": {
      "text/plain": [
       "[<matplotlib.lines.Line2D at 0x20f6e5e3aa0>]"
      ]
     },
     "execution_count": 39,
     "metadata": {},
     "output_type": "execute_result"
    },
    {
     "data": {
      "image/png": "[encoded data removed]",
      "text/plain": [
       "<Figure size 640x480 with 1 Axes>"
      ]
     },
     "metadata": {},
     "output_type": "display_data"
    }
   ],
   "source": [
    "plus = np.array([[-4,3],[-3,3],[-3,1],[-1,2]])\n",
    "minus = np.array([[2,-1],[3,-2],[3,-4],[4,-3]])\n",
    "plt.plot(plus[:,0],plus[:,1],'.',c='b')\n",
    "plt.plot(minus[:,0],minus[:,1],'.',c='r')"
   ]
  },
  {
   "cell_type": "code",
   "execution_count": 40,
   "id": "f066d557-ba70-4373-becf-0124b52dfbc6",
   "metadata": {},
   "outputs": [
    {
     "name": "stdout",
     "output_type": "stream",
     "text": [
      "status: optimal\n",
      "optimal value 0.2222222222222222\n",
      "optimal var [-0.33333333] [0.33333333] -3.300711725937288e-17\n"
     ]
    }
   ],
   "source": [
    "# Create two scalar optimization variables.\n",
    "w = cp.Variable((2,1))\n",
    "b= cp.Variable()\n",
    "\n",
    "# Create two constraints.\n",
    "constraints = [plus@w + b >= 1,\n",
    "               minus@w + b <= -1]\n",
    "\n",
    "# Form objective.\n",
    "obj = cp.Minimize(cp.sum(cp.square(w)))\n",
    "\n",
    "#Form and solve problem.\n",
    "prob = cp.Problem(obj, constraints)\n",
    "prob.solve()  # Returns the optimal value.\n",
    "print(\"status:\", prob.status)\n",
    "print(\"optimal value\", prob.value)\n",
    "print(\"optimal var\", w[0].value, w[1].value,b.value)\n",
    "[w1,w2] = [-0.333333,0.333333]\n",
    "b= 0"
   ]
  },
  {
   "cell_type": "code",
   "execution_count": 41,
   "id": "649be8bf-47f9-433e-93ef-f268dbe5aa25",
   "metadata": {},
   "outputs": [
    {
     "data": {
      "image/png": "[encoded data removed]",
      "text/plain": [
       "<Figure size 640x480 with 1 Axes>"
      ]
     },
     "metadata": {},
     "output_type": "display_data"
    }
   ],
   "source": [
    "plt.axline([0,(-b+(0))/w2], [1,(-1*w1-b+(0))/w2],color='black')\n",
    "plt.axline([0,(-b+(+1))/w2], [1,(-1*w1-b+(+1))/w2],color='green')\n",
    "plt.axline([0,(-b+(+-1))/w2], [1,(-1*w1-b+(+-1))/w2],color='green')\n",
    "plt.plot(plus[:,0],plus[:,1],'.',c='b')\n",
    "plt.plot(minus[:,0],minus[:,1],'.',c='r')\n",
    "plt.show()"
   ]
  },
  {
   "cell_type": "code",
   "execution_count": 42,
   "id": "ef7674b1-8e35-4af5-ae20-cab190ba803d",
   "metadata": {},
   "outputs": [],
   "source": [
    "X=np.concatenate((plus,-minus))\n",
    "N = X.shape[0]\n",
    "y = np.concatenate((np.ones(plus.shape[0]),-np.ones(minus.shape[0])))\n",
    "e = np.ones(N)"
   ]
  },
  {
   "cell_type": "code",
   "execution_count": 43,
   "id": "8187089f-91f3-47ec-8ae9-d81c9c97faf3",
   "metadata": {},
   "outputs": [
    {
     "data": {
      "text/plain": [
       "-0.1111111111111111"
      ]
     },
     "execution_count": 43,
     "metadata": {},
     "output_type": "execute_result"
    }
   ],
   "source": [
    "lam = cp.Variable((N,1))\n",
    "\n",
    "obj = cp.Minimize(0.5*cp.quad_form(lam, X@X.T, assume_PSD = True)-e@lam)\n",
    "\n",
    "cons = [lam>=0, y.T@lam ==0 ]\n",
    "\n",
    "prob = cp.Problem(obj, cons)\n",
    "prob.solve()"
   ]
  },
  {
   "cell_type": "code",
   "execution_count": 44,
   "id": "27c0adc6-edea-4412-b7fa-fde07d6b243f",
   "metadata": {},
   "outputs": [
    {
     "name": "stdout",
     "output_type": "stream",
     "text": [
      "status: optimal\n",
      "optimal value: -0.1111111111111111\n",
      "optimal var: [[2.75269032e-23]\n",
      " [2.16904014e-23]\n",
      " [6.91498712e-24]\n",
      " [1.11111111e-01]\n",
      " [1.11111111e-01]\n",
      " [2.44099983e-24]\n",
      " [1.75677128e-23]\n",
      " [7.05894588e-24]]\n"
     ]
    }
   ],
   "source": [
    "print(\"status:\", prob.status)\n",
    "print(\"optimal value:\", prob.value)\n",
    "print(\"optimal var:\", lam.value)"
   ]
  },
  {
   "cell_type": "markdown",
   "id": "5f25b3e6-1de3-49c6-99cb-658290986c09",
   "metadata": {},
   "source": [
    "# Q3 \n",
    "## part 3"
   ]
  },
  {
   "cell_type": "code",
   "execution_count": 46,
   "id": "cb20c114-47b6-42e5-8cb9-46b51820b397",
   "metadata": {},
   "outputs": [
    {
     "data": {
      "text/plain": [
       "[<matplotlib.lines.Line2D at 0x20f6e6d7aa0>]"
      ]
     },
     "execution_count": 46,
     "metadata": {},
     "output_type": "execute_result"
    },
    {
     "data": {
      "image/png": "[encoded data removed]",
      "text/plain": [
       "<Figure size 640x480 with 1 Axes>"
      ]
     },
     "metadata": {},
     "output_type": "display_data"
    }
   ],
   "source": [
    "plus = np.array([[-4,3],[-3,3],[-3,1],[-1,2],[-1,-1]])\n",
    "minus = np.array([[1,1],[3,-2],[3,-4],[4,-3]])\n",
    "plt.plot(plus[:,0],plus[:,1],'.',c='b')\n",
    "plt.plot(minus[:,0],minus[:,1],'.',c='r')"
   ]
  },
  {
   "cell_type": "code",
   "execution_count": 47,
   "id": "d738be01-6310-4f63-a99e-ed06925fc7c6",
   "metadata": {},
   "outputs": [
    {
     "name": "stdout",
     "output_type": "stream",
     "text": [
      "status: optimal\n",
      "optimal value 1.0\n",
      "optimal var [-1.] [-1.9854569e-23] 1.4880845409675402e-23\n"
     ]
    }
   ],
   "source": [
    "# Create two scalar optimization variables.\n",
    "w = cp.Variable((2,1))\n",
    "b= cp.Variable()\n",
    "\n",
    "# Create two constraints.\n",
    "constraints = [plus@w + b >= 1,\n",
    "               minus@w + b <= -1]\n",
    "\n",
    "# Form objective.\n",
    "obj = cp.Minimize(cp.sum(cp.square(w)))\n",
    "\n",
    "#Form and solve problem.\n",
    "prob = cp.Problem(obj, constraints)\n",
    "prob.solve()  # Returns the optimal value.\n",
    "print(\"status:\", prob.status)\n",
    "print(\"optimal value\", prob.value)\n",
    "print(\"optimal var\", w[0].value, w[1].value,b.value)\n",
    "[w1,w2] = [-1,0.001]\n",
    "b= 0"
   ]
  },
  {
   "cell_type": "code",
   "execution_count": 48,
   "id": "70fdf49d-703f-4a1a-9129-cff2bd6c6ccd",
   "metadata": {},
   "outputs": [
    {
     "data": {
      "image/png": "[encoded data removed]",
      "text/plain": [
       "<Figure size 640x480 with 1 Axes>"
      ]
     },
     "metadata": {},
     "output_type": "display_data"
    }
   ],
   "source": [
    "plt.axline([0,(-b+(0))/w2], [1,(-1*w1-b+(0))/w2],color='black')\n",
    "plt.axline([0,(-b+(+1))/w2], [1,(-1*w1-b+(+1))/w2],color='green')\n",
    "plt.axline([0,(-b+(+-1))/w2], [1,(-1*w1-b+(+-1))/w2],color='green')\n",
    "plt.plot(plus[:,0],plus[:,1],'.',c='b')\n",
    "plt.plot(minus[:,0],minus[:,1],'.',c='r')\n",
    "plt.ylim((-5,5))\n",
    "plt.show()"
   ]
  },
  {
   "cell_type": "code",
   "execution_count": 49,
   "id": "464706f6-75a5-42c6-b14d-425ca3d2078f",
   "metadata": {},
   "outputs": [],
   "source": [
    "X=np.concatenate((plus,-minus))\n",
    "N = X.shape[0]\n",
    "y = np.concatenate((np.ones(plus.shape[0]),-np.ones(minus.shape[0])))\n",
    "e = np.ones(N)"
   ]
  },
  {
   "cell_type": "code",
   "execution_count": 50,
   "id": "d73bc77b-1b3a-4956-ae30-4319b34db3f6",
   "metadata": {},
   "outputs": [
    {
     "data": {
      "text/plain": [
       "-0.5"
      ]
     },
     "execution_count": 50,
     "metadata": {},
     "output_type": "execute_result"
    }
   ],
   "source": [
    "lam = cp.Variable((N,1))\n",
    "\n",
    "obj = cp.Minimize(0.5*cp.quad_form(lam, X@X.T, assume_PSD = True)-e@lam)\n",
    "\n",
    "cons = [lam>=0, y.T@lam ==0 ]\n",
    "\n",
    "prob = cp.Problem(obj, cons)\n",
    "prob.solve()"
   ]
  },
  {
   "cell_type": "code",
   "execution_count": 51,
   "id": "08f574a2-091f-435e-90e3-ccc7732821b3",
   "metadata": {},
   "outputs": [
    {
     "name": "stdout",
     "output_type": "stream",
     "text": [
      "status: optimal\n",
      "optimal value: -0.5\n",
      "optimal var: [[2.58222132e-23]\n",
      " [3.23818558e-23]\n",
      " [1.28274548e-22]\n",
      " [3.33333333e-01]\n",
      " [1.66666667e-01]\n",
      " [5.00000000e-01]\n",
      " [3.51291268e-23]\n",
      " [2.91030433e-23]\n",
      " [6.71862381e-23]]\n"
     ]
    }
   ],
   "source": [
    "print(\"status:\", prob.status)\n",
    "print(\"optimal value:\", prob.value)\n",
    "print(\"optimal var:\", lam.value)"
   ]
  },
  {
   "cell_type": "markdown",
   "id": "01d706ec-7c30-46da-8f1f-57e2a3d3e829",
   "metadata": {},
   "source": [
    "# Q4"
   ]
  },
  {
   "cell_type": "code",
   "execution_count": 53,
   "id": "3e546358-302d-4c9c-8979-2a778cdb4a85",
   "metadata": {},
   "outputs": [
    {
     "data": {
      "text/plain": [
       "<matplotlib.collections.PathCollection at 0x20f6e69adb0>"
      ]
     },
     "execution_count": 53,
     "metadata": {},
     "output_type": "execute_result"
    },
    {
     "data": {
      "image/png": "[encoded data removed]",
      "text/plain": [
       "<Figure size 640x480 with 1 Axes>"
      ]
     },
     "metadata": {},
     "output_type": "display_data"
    }
   ],
   "source": [
    "x1 = np.array([-9,-8,-7,-1,0,1,7,8,9])\n",
    "x2 = np.array([-5,-3,3,5])\n",
    "y1 = np.zeros(len(x1))\n",
    "y2 = np.zeros(len(x2))\n",
    "plt.scatter(x1,y1,marker='+',c='b')\n",
    "plt.scatter(x2,y2,marker='*',c='r')"
   ]
  },
  {
   "cell_type": "markdown",
   "id": "7a5aee53-8071-4aba-a27a-359d5c0274df",
   "metadata": {},
   "source": [
    "## $$\\Phi (x) = \\left(cos(\\frac{\\pi x}{4}),sin(\\frac{\\pi x}{4})\\right)$$"
   ]
  },
  {
   "cell_type": "code",
   "execution_count": 55,
   "id": "9b24b0e3-aaa3-4885-a448-6a77937978ee",
   "metadata": {},
   "outputs": [],
   "source": [
    "def Phi(X):\n",
    "    N = len(X)\n",
    "    xy = np.zeros((N,2))\n",
    "    for i in range(0,N):\n",
    "        xy[i,0] = np.cos(np.pi*X[i]/4)\n",
    "        xy[i,1] = np.sin(np.pi*X[i]/4)\n",
    "    return xy"
   ]
  },
  {
   "cell_type": "code",
   "execution_count": 56,
   "id": "71ab8d81-57f1-4898-b21e-dbc5870690e0",
   "metadata": {},
   "outputs": [
    {
     "data": {
      "text/plain": [
       "[<matplotlib.lines.Line2D at 0x20f6e96b9e0>]"
      ]
     },
     "execution_count": 56,
     "metadata": {},
     "output_type": "execute_result"
    },
    {
     "data": {
      "image/png": "[encoded data removed]",
      "text/plain": [
       "<Figure size 640x480 with 1 Axes>"
      ]
     },
     "metadata": {},
     "output_type": "display_data"
    }
   ],
   "source": [
    "plus = Phi(x1)\n",
    "minus = Phi(x2)\n",
    "plt.plot(plus[:,0],plus[:,1],'.',c='b')\n",
    "plt.plot(minus[:,0],minus[:,1],'.',c='r')"
   ]
  },
  {
   "cell_type": "code",
   "execution_count": 57,
   "id": "9ad1c088-55fd-4b1b-ad40-1a11642851ab",
   "metadata": {},
   "outputs": [
    {
     "name": "stdout",
     "output_type": "stream",
     "text": [
      "status: optimal\n",
      "optimal value 1.9999999999999996\n",
      "optimal var [1.41421356] [4.56488139e-31] 1.850370474127855e-17\n"
     ]
    }
   ],
   "source": [
    "# Create two scalar optimization variables.\n",
    "w = cp.Variable((2,1))\n",
    "b= cp.Variable()\n",
    "\n",
    "# Create two constraints.\n",
    "constraints = [plus@w + b >= 1,\n",
    "               minus@w + b <= -1]\n",
    "\n",
    "# Form objective.\n",
    "obj = cp.Minimize(cp.sum(cp.square(w)))\n",
    "\n",
    "#Form and solve problem.\n",
    "prob = cp.Problem(obj, constraints)\n",
    "prob.solve()  # Returns the optimal value.\n",
    "print(\"status:\", prob.status)\n",
    "print(\"optimal value\", prob.value)\n",
    "print(\"optimal var\", w[0].value, w[1].value,b.value)\n",
    "[w1,w2] = [1.4142,0.0001]\n",
    "b= 0"
   ]
  },
  {
   "cell_type": "code",
   "execution_count": 58,
   "id": "baea4a69-6bef-4f41-bd08-f24bb8e88c32",
   "metadata": {},
   "outputs": [
    {
     "data": {
      "image/png": "[encoded data removed]",
      "text/plain": [
       "<Figure size 640x480 with 1 Axes>"
      ]
     },
     "metadata": {},
     "output_type": "display_data"
    }
   ],
   "source": [
    "plt.axline([0,(-b+(0))/w2], [1,(-1*w1-b+(0))/w2],color='black')\n",
    "plt.axline([0,(-b+(+1))/w2], [1,(-1*w1-b+(+1))/w2],color='green')\n",
    "plt.axline([0,(-b+(+-1))/w2], [1,(-1*w1-b+(+-1))/w2],color='green')\n",
    "plt.plot(plus[:,0],plus[:,1],'.',c='b')\n",
    "plt.plot(minus[:,0],minus[:,1],'.',c='r')\n",
    "plt.ylim((-5,5))\n",
    "plt.show()"
   ]
  },
  {
   "cell_type": "code",
   "execution_count": 59,
   "id": "1a4ea56e-7c54-4485-80d7-dac5566b7be3",
   "metadata": {},
   "outputs": [],
   "source": [
    "X=np.concatenate((plus,-minus))\n",
    "N = X.shape[0]\n",
    "y = np.concatenate((np.ones(plus.shape[0]),-np.ones(minus.shape[0])))\n",
    "e = np.ones(N)"
   ]
  },
  {
   "cell_type": "code",
   "execution_count": 60,
   "id": "68657b3f-3d47-47dc-8fdb-3fe3bd658ba0",
   "metadata": {},
   "outputs": [
    {
     "data": {
      "text/plain": [
       "-0.9999999999999998"
      ]
     },
     "execution_count": 60,
     "metadata": {},
     "output_type": "execute_result"
    }
   ],
   "source": [
    "lam = cp.Variable((N,1))\n",
    "\n",
    "obj = cp.Minimize(0.5*cp.quad_form(lam, X@X.T, assume_PSD = True)-e@lam)\n",
    "\n",
    "cons = [lam>=0, y.T@lam ==0 ]\n",
    "\n",
    "prob = cp.Problem(obj, cons)\n",
    "prob.solve()"
   ]
  },
  {
   "cell_type": "code",
   "execution_count": 61,
   "id": "cef4bf86-d766-49cc-9aca-cd158c79e143",
   "metadata": {},
   "outputs": [
    {
     "name": "stdout",
     "output_type": "stream",
     "text": [
      "status: optimal\n",
      "optimal value: -0.9999999999999998\n",
      "optimal var: [[1.66666666e-01]\n",
      " [4.57184601e-22]\n",
      " [1.66666668e-01]\n",
      " [1.66666667e-01]\n",
      " [6.86065423e-23]\n",
      " [1.66666667e-01]\n",
      " [1.66666668e-01]\n",
      " [1.24117694e-22]\n",
      " [1.66666666e-01]\n",
      " [2.50000000e-01]\n",
      " [2.50000001e-01]\n",
      " [2.50000000e-01]\n",
      " [2.49999999e-01]]\n"
     ]
    }
   ],
   "source": [
    "print(\"status:\", prob.status)\n",
    "print(\"optimal value:\", prob.value)\n",
    "print(\"optimal var:\", lam.value)"
   ]
  },
  {
   "cell_type": "code",
   "execution_count": null,
   "id": "1511b3b6-9c3f-4385-8e6a-b1d2fa425016",
   "metadata": {},
   "outputs": [],
   "source": []
  }
 ],
 "metadata": {
  "kernelspec": {
   "display_name": "Python 3 (ipykernel)",
   "language": "python",
   "name": "python3"
  },
  "language_info": {
   "codemirror_mode": {
    "name": "ipython",
    "version": 3
   },
   "file_extension": ".py",
   "mimetype": "text/x-python",
   "name": "python",
   "nbconvert_exporter": "python",
   "pygments_lexer": "ipython3",
   "version": "3.12.3"
  }
 },
 "nbformat": 4,
 "nbformat_minor": 5
}
