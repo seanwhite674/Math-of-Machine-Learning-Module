{
 "cells": [
  {
   "cell_type": "markdown",
   "id": "77173591-fa44-42d0-a8e6-29995eb99ade",
   "metadata": {},
   "source": [
    "# Constructing a Neural Network\n",
    "\n",
    "## A simple neural network\n",
    "\n",
    "In the file `NN.npz` there are definitions for the weight matrix and bias vector for a simple neural network with just an input and output layer, and with no hidden layers. Construct a neural network from these using a logistic sigmoid activation function. Test your network with the input x also given below. Can you interpret the result?"
   ]
  },
  {
   "cell_type": "code",
   "execution_count": 1,
   "id": "22d51b12-8c7f-4180-874b-71ffd9d51d52",
   "metadata": {},
   "outputs": [],
   "source": [
    "import numpy as np\n",
    "import matplotlib.pyplot as plt"
   ]
  },
  {
   "cell_type": "code",
   "execution_count": 2,
   "id": "7008076b-b3a8-4603-b973-8e7ce9d26005",
   "metadata": {},
   "outputs": [],
   "source": [
    "nndata = np.load(\"NN.npz\")"
   ]
  },
  {
   "cell_type": "code",
   "execution_count": 3,
   "id": "4535aa6d-81c4-4b7d-ae91-b73aefa58d01",
   "metadata": {
    "scrolled": true
   },
   "outputs": [],
   "source": [
    "W = nndata[\"Weight\"]\n",
    "b = nndata[\"Bias\"]\n",
    "x = nndata[\"x\"]"
   ]
  },
  {
   "cell_type": "code",
   "execution_count": null,
   "id": "cdf517dc-6d1d-4917-ae9f-e315bbb419a5",
   "metadata": {},
   "outputs": [],
   "source": [
    "..."
   ]
  },
  {
   "cell_type": "markdown",
   "id": "0ef27c59-32c2-44eb-90b9-2ecdcc8c48f3",
   "metadata": {},
   "source": [
    "## Hidden layers\n",
    "\n",
    "Next, construct a network with an additional hidden layer. The weights and biases for each layer are also taken from `NN.npz`. Again, use a logistic sigmoid activation function for both layers."
   ]
  },
  {
   "cell_type": "code",
   "execution_count": 9,
   "id": "00058053-dd4d-4fd8-b511-897e90114bb4",
   "metadata": {},
   "outputs": [],
   "source": [
    "W1 = nndata[\"Weight1\"]\n",
    "b1 = nndata[\"Bias1\"]\n",
    "W2 = nndata[\"Weight2\"]\n",
    "b2 = nndata[\"Bias2\"]"
   ]
  },
  {
   "cell_type": "code",
   "execution_count": null,
   "id": "59446532-d187-4096-9436-b2f2f703f836",
   "metadata": {},
   "outputs": [],
   "source": [
    "..."
   ]
  }
 ],
 "metadata": {
  "kernelspec": {
   "display_name": "Python 3 (ipykernel)",
   "language": "python",
   "name": "python3"
  },
  "language_info": {
   "codemirror_mode": {
    "name": "ipython",
    "version": 3
   },
   "file_extension": ".py",
   "mimetype": "text/x-python",
   "name": "python",
   "nbconvert_exporter": "python",
   "pygments_lexer": "ipython3",
   "version": "3.12.2"
  }
 },
 "nbformat": 4,
 "nbformat_minor": 5
}
