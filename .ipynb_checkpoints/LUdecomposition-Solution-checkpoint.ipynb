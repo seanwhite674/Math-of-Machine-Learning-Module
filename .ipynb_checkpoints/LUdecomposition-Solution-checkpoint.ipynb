{
 "cells": [
  {
   "cell_type": "markdown",
   "metadata": {},
   "source": [
    "# Gaussian elimination and LU decomposition\n",
    "\n",
    "Say we want to compute the solution of\n",
    "$$Ax = b$$\n",
    "for the vector $x$. We learn how to do this by transforming it to the problem of solving\n",
    "$$U x = y$$\n",
    "where $U$ is an upper-triangular matrix obtained by performing Gaussian elimiantion on $A$ and $y$ is obtained by performing the same operations on $b$. We can then use back substitution to solve $Ux=y$ more easily than solving $Ax=b$ directly.\n",
    "\n",
    "This approach is directly related to the LU decomposition of a matrix, where we wish to factor a matrix $A$ into a product of a lower triangular matrix $L$ and an upper triangular matrix $U$ to give $A = LU$. To understand how to compute the LU decomposition of a matrix, let us start by reminding ourselves of how to do Gaussian elimination.\n",
    "\n",
    "## Gaussian elimination by hand\n",
    "\n",
    "To start, consider the following 3x3 matrix\n",
    "$$ A = \\begin{bmatrix} 1 & 2 & 3 \\\\ 4 & 5 & 6 \\\\ 7 & 8 & 10 \\end{bmatrix}$$\n",
    "\n",
    "1. Use Gaussian elimination to transform this by hand to an upper triangular matrix $U$ (in row echelon form). Record each elementary row operation you perform along the way.\n",
    "\n",
    "2. Apply the same sequence of row operations to the vector\n",
    "$$b = \\begin{bmatrix} 1 \\\\ 2 \\\\ 3 \\end{bmatrix}$$\n",
    "to obtain the transformed vector $y$.\n",
    "\n",
    "3. Use back substitution to solve $U x = y$."
   ]
  },
  {
   "cell_type": "markdown",
   "metadata": {},
   "source": [
    "### Solution\n",
    "\n",
    "Using the standard Gaussian elimination algorithm, we would perform the following steps:\n",
    "1. Subtract 4x(row 1) from row 2. This leaves us with $$\\begin{bmatrix} 1 & 2 & 3 \\\\ 0 & -3 & -6 \\\\ 7 & 8 & 10  \\end{bmatrix}$$\n",
    "2. Subtract 7x(row 1) from row 3. This leaves us with $$\\begin{bmatrix} 1 & 2 & 3 \\\\ 0 & -3 & -6 \\\\ 0 & -6 & -11  \\end{bmatrix}$$\n",
    "3. Subtract 2x(row 2) from row 3. This leaves us with $$\\begin{bmatrix} 1 & 2 & 3 \\\\ 0 & -3 & -6 \\\\ 0 & 0 & 1 \\end{bmatrix}$$\n",
    "\n",
    "We now have an upper-triangular matrix $U$. Applying the same sequence of operations to $b$:\n",
    "1. Subtract 4x(row 1) from row 2. This leaves us with $$\\begin{bmatrix} 1 \\\\ -2 \\\\ 3\\end{bmatrix}$$\n",
    "2. Subtract 7x(row 1) from row 3. This leaves us with $$\\begin{bmatrix} 1 \\\\ -2 \\\\ -4 \\end{bmatrix}$$\n",
    "3. Subtract 2x(row 2) from row 3. This leaves us with $$\\begin{bmatrix} 1 \\\\ -2 \\\\ 0 \\end{bmatrix}$$\n",
    "\n",
    "Finally, we use backsubstitution to solve $Ux = y$ for x. Starting with the last entry\n",
    "$$ x_n = 0 / 1 = 0$$\n",
    "$$ x_{n-1} = \\frac{-2 - (-6)(0)}{-3} = \\frac23$$\n",
    "$$ x_{n-2} = \\frac{1 - (2)(\\frac23) - (3)(0)}{1} = -\\frac13$$\n",
    "so we have the solution\n",
    "$$x = \\begin{bmatrix} -\\frac13 \\\\ \\frac23 \\\\ 0\\end{bmatrix}$$"
   ]
  },
  {
   "cell_type": "markdown",
   "metadata": {},
   "source": [
    "## Gaussian elimination in Python\n",
    "\n",
    "We will now transform the previous algorithm into Python code. First of all define the matrix $A$ and the vector $b$:"
   ]
  },
  {
   "cell_type": "code",
   "execution_count": 1,
   "metadata": {},
   "outputs": [],
   "source": [
    "import numpy as np\n",
    "\n",
    "A = np.array([[1,2,3],[4,5,6],[7,8,10]])\n",
    "b = np.array([1,2,3])\n",
    "n = 3"
   ]
  },
  {
   "cell_type": "markdown",
   "metadata": {},
   "source": [
    "Now perform Gaussian elimination and store the result in a matrix $U$ and a vector $y$. Keep track of the multiplication factors for each step in a matrix $L$."
   ]
  },
  {
   "cell_type": "code",
   "execution_count": 2,
   "metadata": {},
   "outputs": [],
   "source": [
    "U = np.array(A, dtype=float)\n",
    "y = np.array(b, dtype=float)\n",
    "L = np.identity(n)\n",
    "\n",
    "# loop over columns and transform to get zeros below the pivot\n",
    "for k in range(0,n):\n",
    "    # loop over all rows below the pivot\n",
    "    for i in range(k + 1, n):\n",
    "        # Store the multiplication factors in the matrix L\n",
    "        L[i,k] = U[i,k] / U[k,k]\n",
    "\n",
    "        # Subtract a multiple of row k from row i\n",
    "        # for j in range(k, n):\n",
    "        #    U[i,j] = U[i,j] - L[i,k] * U[k,j]\n",
    "        U[i,:] = U[i,:] - L[i,k] * U[k,:]\n",
    "        y[i] = y[i] - L[i,k] * y[k]"
   ]
  },
  {
   "cell_type": "code",
   "execution_count": 3,
   "metadata": {},
   "outputs": [
    {
     "data": {
      "text/plain": [
       "array([[1., 0., 0.],\n",
       "       [4., 1., 0.],\n",
       "       [7., 2., 1.]])"
      ]
     },
     "execution_count": 3,
     "metadata": {},
     "output_type": "execute_result"
    }
   ],
   "source": [
    "L"
   ]
  },
  {
   "cell_type": "code",
   "execution_count": 4,
   "metadata": {
    "scrolled": true
   },
   "outputs": [
    {
     "data": {
      "text/plain": [
       "array([[ 1.,  2.,  3.],\n",
       "       [ 0., -3., -6.],\n",
       "       [ 0.,  0.,  1.]])"
      ]
     },
     "execution_count": 4,
     "metadata": {},
     "output_type": "execute_result"
    }
   ],
   "source": [
    "U"
   ]
  },
  {
   "cell_type": "code",
   "execution_count": 5,
   "metadata": {},
   "outputs": [
    {
     "data": {
      "text/plain": [
       "array([ 1., -2.,  0.])"
      ]
     },
     "execution_count": 5,
     "metadata": {},
     "output_type": "execute_result"
    }
   ],
   "source": [
    "y"
   ]
  },
  {
   "cell_type": "markdown",
   "metadata": {},
   "source": [
    "**Observation:** it is easy to check that $y$ can be obtained as the solution of the system $Ly=b$"
   ]
  },
  {
   "cell_type": "code",
   "execution_count": 6,
   "metadata": {},
   "outputs": [
    {
     "name": "stdout",
     "output_type": "stream",
     "text": [
      "[ 1.0000000e+00 -2.0000000e+00 -4.4408921e-16]\n"
     ]
    }
   ],
   "source": [
    "print(np.linalg.solve(L,b))"
   ]
  },
  {
   "cell_type": "markdown",
   "metadata": {},
   "source": [
    "If we consider how many operations this took, there are: ($n$ iterations of the outer loop) x ($n-(k+1)$) iterations of the inner loop) x (n multiplications for the subtraction). This means we require $\\mathcal{O}(n^3)$ operations for the Gaussian elimination step."
   ]
  },
  {
   "cell_type": "markdown",
   "metadata": {},
   "source": [
    "Let us now solve for $x$ using back substitution on $U x = y$."
   ]
  },
  {
   "cell_type": "code",
   "execution_count": 7,
   "metadata": {
    "scrolled": true
   },
   "outputs": [],
   "source": [
    "x = np.zeros(n)\n",
    "\n",
    "# Start with the last entry in x\n",
    "x[n-1] = y[n-1] / U[n-1,n-1]\n",
    "    \n",
    "# Iterate upwards from the second last entry to the first entry\n",
    "for i in range(n-2,-1,-1):\n",
    "    # Subtract all of the previously computed values from y, then divide by U[i,i]\n",
    "    #sum = 0\n",
    "    #for j in range(i+1,n):\n",
    "    #    sum += U[i,j] * x[j]\n",
    "    x[i] = (y[i] - U[i,i+1:n]@x[i+1:n])/U[i,i]"
   ]
  },
  {
   "cell_type": "code",
   "execution_count": 8,
   "metadata": {},
   "outputs": [
    {
     "data": {
      "text/plain": [
       "array([-0.33333333,  0.66666667,  0.        ])"
      ]
     },
     "execution_count": 8,
     "metadata": {},
     "output_type": "execute_result"
    }
   ],
   "source": [
    "x"
   ]
  },
  {
   "cell_type": "code",
   "execution_count": 9,
   "metadata": {},
   "outputs": [
    {
     "data": {
      "text/plain": [
       "array([1., 2., 3.])"
      ]
     },
     "execution_count": 9,
     "metadata": {},
     "output_type": "execute_result"
    }
   ],
   "source": [
    "A@x"
   ]
  },
  {
   "cell_type": "markdown",
   "metadata": {},
   "source": [
    "We can check that our original matrix is given by $A=LU$:"
   ]
  },
  {
   "cell_type": "code",
   "execution_count": 10,
   "metadata": {},
   "outputs": [
    {
     "data": {
      "text/plain": [
       "array([[ 1.,  2.,  3.],\n",
       "       [ 4.,  5.,  6.],\n",
       "       [ 7.,  8., 10.]])"
      ]
     },
     "execution_count": 10,
     "metadata": {},
     "output_type": "execute_result"
    }
   ],
   "source": [
    "L@U"
   ]
  },
  {
   "cell_type": "markdown",
   "metadata": {},
   "source": [
    "## Gaussian elimination by matrix multiplication\n",
    "\n",
    "We could consider each of the steps in Gaussian elimination in terms of multiplication on the left by a sequence of *elementary elimination matrices*. These come in three forms:\n",
    "\n",
    "1. Multiplying row $i$ by a scalar $c$: $\\mathbf{r}_i \\to c\\, \\mathbf{r}_i$. This is equivalent to pre-multiplying by a matrix with $1$'s along the diagonal and c in the $i$-th diagonal,$$E_1(i, c) = \\begin{bmatrix}\n",
    "  1 &        &   &   &   &        &   \\\\\n",
    "    & \\ddots &   &   &   &        &   \\\\\n",
    "    &        & 1 &   &   &        &   \\\\\n",
    "    &        &   & c &   &        &   \\\\\n",
    "    &        &   &   & 1 &        &   \\\\\n",
    "    &        &   &   &   & \\ddots &   \\\\\n",
    "    &        &   &   &   &        & 1\n",
    "\\end{bmatrix}$$\n",
    "Note that the inverse is given by $E_1(c)^{-1} = E_1(c^{-1})$.\n",
    "\n",
    "2. Add a multiple $c$ of row $j$ to row $i$: $\\mathbf{r}_i \\to \\mathbf{r}_i  + c\\, \\mathbf{r}_j$. This is equivalent to premultiplying by a matrix with $1$'s along the diagonal and $c$ in $(i, j)$-th entry:\n",
    "$$E_2(i,j,c) = \\begin{bmatrix}\n",
    "  1 &        &   &        &   &        &   \\\\\n",
    "    & \\ddots &   &        &   &        &   \\\\\n",
    "    &        & 1 &        &   &        &   \\\\\n",
    "    &        &   & \\ddots &   &        &   \\\\\n",
    "    &        & c &        & 1 &        &   \\\\\n",
    "    &        &   &        &   & \\ddots &   \\\\\n",
    "    &        &   &        &   &        & 1\n",
    "\\end{bmatrix}$$\n",
    "In this case the inverse is given by $E_2(c)^{-1} = E_2(-c)$.\n",
    "\n",
    "3. Interchanging rows $i$ and $j$: $\\mathbf{r}_i \\leftrightarrow \\mathbf{r}_j$. This is equivalent to pre-multiplying by a matrix which is the identity with rows $i$ and $j$ swapped: $$E_3(i,j) = \\begin{bmatrix}\n",
    "  1 &        &   &        &   &        &   \\\\\n",
    "    & \\ddots &   &        &   &        &   \\\\\n",
    "    &        & 0 &        & 1 &        &   \\\\\n",
    "    &        &   & \\ddots &   &        &   \\\\\n",
    "    &        & 1 &        & 0 &        &   \\\\\n",
    "    &        &   &        &   & \\ddots &   \\\\\n",
    "    &        &   &        &   &        & 1\n",
    "\\end{bmatrix}$$\n",
    "In this case the $E_3$ is a permutation matrix and it is its own inverse $E_3^{-1} = E_3$."
   ]
  },
  {
   "cell_type": "markdown",
   "metadata": {},
   "source": [
    "Let's work out the sequence of elimination matrices we need to perform the Gaussian elimination from the previous example. First, we define Python functions produce each of the three types of elimination matrix:"
   ]
  },
  {
   "cell_type": "code",
   "execution_count": 11,
   "metadata": {},
   "outputs": [],
   "source": [
    "def E1(i,c):\n",
    "    e1 = np.identity(n)\n",
    "    e1[i, i] = c\n",
    "    return e1\n",
    "\n",
    "def E2(i,j,c):\n",
    "    e2 = np.identity(n)\n",
    "    e2[i, j] = c\n",
    "    return e2\n",
    "\n",
    "def E3(i,j):\n",
    "    e3 = np.identity(n)\n",
    "    e3[i, i] = 0\n",
    "    e3[j, j] = 0\n",
    "    e3[i, j] = 1\n",
    "    e3[j, i] = 1\n",
    "    return e3"
   ]
  },
  {
   "cell_type": "markdown",
   "metadata": {},
   "source": [
    "Now, we can see that the Gaussian elimination steps correspond to\n",
    "$$ U = E_2(2,1,-2) E_2(2,0,-7) E_2(1,0,-4) A$$\n",
    "Apply these in turn (from right to left):"
   ]
  },
  {
   "cell_type": "code",
   "execution_count": 12,
   "metadata": {
    "scrolled": true
   },
   "outputs": [
    {
     "data": {
      "text/plain": [
       "array([[ 1.,  2.,  3.],\n",
       "       [ 0., -3., -6.],\n",
       "       [ 7.,  8., 10.]])"
      ]
     },
     "execution_count": 12,
     "metadata": {},
     "output_type": "execute_result"
    }
   ],
   "source": [
    "E2(1,0,-4)@A"
   ]
  },
  {
   "cell_type": "code",
   "execution_count": 13,
   "metadata": {
    "scrolled": true
   },
   "outputs": [
    {
     "data": {
      "text/plain": [
       "array([[  1.,   2.,   3.],\n",
       "       [  0.,  -3.,  -6.],\n",
       "       [  0.,  -6., -11.]])"
      ]
     },
     "execution_count": 13,
     "metadata": {},
     "output_type": "execute_result"
    }
   ],
   "source": [
    "E2(2,0,-7)@E2(1,0,-4)@A"
   ]
  },
  {
   "cell_type": "code",
   "execution_count": 14,
   "metadata": {},
   "outputs": [
    {
     "data": {
      "text/plain": [
       "array([[ 1.,  2.,  3.],\n",
       "       [ 0., -3., -6.],\n",
       "       [ 0.,  0.,  1.]])"
      ]
     },
     "execution_count": 14,
     "metadata": {},
     "output_type": "execute_result"
    }
   ],
   "source": [
    "E2(2,1,-2)@E2(2,0,-7)@E2(1,0,-4)@A"
   ]
  },
  {
   "cell_type": "markdown",
   "metadata": {},
   "source": [
    "We therefore have\n",
    "$$\n",
    "\\begin{aligned}\n",
    "A &= [E_2(2,1,-2) E_2(2,0,-7) E_2(1,0,-4)]^{-1} U \\\\\n",
    "  &= E_2(1,0,-4)^{-1} E_2(2,0,-7)^{-1} E_2(2,1,-2)^{-1} U \\\\\n",
    "  &= E_2(1,0,4) E_2(2,0,7) E_2(2,1,2) U \\\\\n",
    "  &= L U\n",
    "\\end{aligned}\n",
    "$$\n",
    "so we have $L$ in terms of elementry elimination matrices."
   ]
  },
  {
   "cell_type": "code",
   "execution_count": 15,
   "metadata": {},
   "outputs": [],
   "source": [
    "L_elim = E2(1,0,4)@E2(2,0,7)@E2(2,1,2)"
   ]
  },
  {
   "cell_type": "code",
   "execution_count": 16,
   "metadata": {},
   "outputs": [
    {
     "data": {
      "text/plain": [
       "array([[1., 0., 0.],\n",
       "       [4., 1., 0.],\n",
       "       [7., 2., 1.]])"
      ]
     },
     "execution_count": 16,
     "metadata": {},
     "output_type": "execute_result"
    }
   ],
   "source": [
    "L"
   ]
  },
  {
   "cell_type": "markdown",
   "metadata": {},
   "source": [
    "## LU decomposition and rank-1 matrices\n",
    "\n",
    "In the lecture videos we emphasized the idea of matrix multiplication in terms of columns-times-rows and the related idea of breaking a matrix into a sum of rank-1 matrices. Now, let's see how this gives a different way of looking at the LU decomposition.\n",
    "\n",
    "The idea is that we would like to split $A$ into a rank-1 piece that picks out the first row and first column, plus a rank-1 piece that picks out the next row and column, and so on:\n",
    "$$\n",
    "\\begin{aligned}\n",
    "A = \\begin{bmatrix} 1 & 2 & 3 \\\\ 4 & 5 & 6 \\\\ 7 & 8 & 10 \\end{bmatrix}\n",
    " &= \\begin{bmatrix} 1 & 2 & 3 \\\\ 4 & \\_ & \\_ \\\\ 7 & \\_ & \\_ \\end{bmatrix}\n",
    "   + \\begin{bmatrix} 0 & 0 & 0 \\\\ 0 & \\_ & \\_ \\\\ 0 & \\_ & \\_ \\end{bmatrix} \n",
    "   + \\begin{bmatrix} 0 & 0 & 0 \\\\ 0 & 0 & 0 \\\\ 0 & 0 & \\_ \\end{bmatrix}\n",
    "\\end{aligned}\n",
    "$$\n",
    "Fill in all the blanks here by insisting that each term is rank-1 and that we recover $A$. First, do it by hand, then write python code to generate the same rank-1 matrices from the rows and columns of $L$ and $U$."
   ]
  },
  {
   "cell_type": "markdown",
   "metadata": {},
   "source": [
    "Doing so, we get\n",
    "$$\n",
    "\\begin{aligned}\n",
    "A = \\begin{bmatrix} 1 & 2 & 3 \\\\ 4 & 5 & 6 \\\\ 7 & 8 & 10 \\end{bmatrix}\n",
    " &= \\begin{bmatrix} 1 & 2 & 3 \\\\ 4 & \\_ & \\_ \\\\ 7 & \\_ & \\_ \\end{bmatrix}\n",
    "   + \\begin{bmatrix} 0 & 0 & 0 \\\\ 0 & \\_ & \\_ \\\\ 0 & \\_ & \\_ \\end{bmatrix} \n",
    "   + \\begin{bmatrix} 0 & 0 & 0 \\\\ 0 & 0 & 0 \\\\ 0 & 0 & \\_ \\end{bmatrix}\\\\\n",
    "   &= \\begin{bmatrix} 1 & 2 & 3 \\\\ 4 & 8 & 12 \\\\ 7 & 14 & 21 \\end{bmatrix}\n",
    "   + \\begin{bmatrix} 0 & 0 & 0 \\\\ 0 & \\_ & \\_ \\\\ 0 & \\_ & \\_ \\end{bmatrix} \n",
    "   + \\begin{bmatrix} 0 & 0 & 0 \\\\ 0 & 0 & 0 \\\\ 0 & 0 & \\_ \\end{bmatrix} \\quad \\text{(rank-1)}\\\\\n",
    "   &= \\begin{bmatrix} 1 & 2 & 3 \\\\ 4 & 8 & 12 \\\\ 7 & 14 & 21 \\end{bmatrix}\n",
    "   + \\begin{bmatrix} 0 & 0 & 0 \\\\ 0 & -3 & -6 \\\\ 0 & -6 & \\_ \\end{bmatrix} \n",
    "   + \\begin{bmatrix} 0 & 0 & 0 \\\\ 0 & 0 & 0 \\\\ 0 & 0 & \\_ \\end{bmatrix} \\quad \\text{(=$A$)}\\\\\n",
    "   &= \\begin{bmatrix} 1 & 2 & 3 \\\\ 4 & 8 & 12 \\\\ 7 & 14 & 21 \\end{bmatrix}\n",
    "   + \\begin{bmatrix} 0 & 0 & 0 \\\\ 0 & -3 & -6 \\\\ 0 & -6 & -12 \\end{bmatrix} \n",
    "   + \\begin{bmatrix} 0 & 0 & 0 \\\\ 0 & 0 & 0 \\\\ 0 & 0 & \\_ \\end{bmatrix} \\quad \\text{(rank-1)}\\\\\n",
    "   &= \\begin{bmatrix} 1 & 2 & 3 \\\\ 4 & 8 & 12 \\\\ 7 & 14 & 21 \\end{bmatrix}\n",
    "   + \\begin{bmatrix} 0 & 0 & 0 \\\\ 0 & -3 & -6 \\\\ 0 & -6 & -12 \\end{bmatrix} \n",
    "   + \\begin{bmatrix} 0 & 0 & 0 \\\\ 0 & 0 & 0 \\\\ 0 & 0 & 1 \\end{bmatrix} \\quad \\text{(=$A$)} \\\\\n",
    "   &= \\begin{bmatrix} 1 \\\\ 4 \\\\ 7 \\end{bmatrix} \\begin{bmatrix} 1 & 2 & 3 \\end{bmatrix}\n",
    "    + \\begin{bmatrix} 0 \\\\ 1 \\\\ 2 \\end{bmatrix} \\begin{bmatrix} 0 & -3 & -6 \\end{bmatrix}\n",
    "    + \\begin{bmatrix} 0 \\\\ 0 \\\\ 1 \\end{bmatrix} \\begin{bmatrix} 0 & 0 & 1 \\end{bmatrix} \\\\\n",
    "    &= l_1 u_1{}^T + l_2 u_2{}^T + l_3 u_3{}^T = LU\n",
    "\\end{aligned}\n",
    "$$"
   ]
  },
  {
   "cell_type": "code",
   "execution_count": 17,
   "metadata": {},
   "outputs": [],
   "source": [
    "l1  = L[:,0:1]\n",
    "u1T = U[0:1]\n",
    "l2  = L[:,1:2]\n",
    "u2T = U[1:2]\n",
    "l3  = L[:,2:3]\n",
    "u3T = U[2:3]"
   ]
  },
  {
   "cell_type": "code",
   "execution_count": 18,
   "metadata": {},
   "outputs": [
    {
     "data": {
      "text/plain": [
       "array([[ 1.,  2.,  3.],\n",
       "       [ 4.,  8., 12.],\n",
       "       [ 7., 14., 21.]])"
      ]
     },
     "execution_count": 18,
     "metadata": {},
     "output_type": "execute_result"
    }
   ],
   "source": [
    "l1@u1T"
   ]
  },
  {
   "cell_type": "code",
   "execution_count": 19,
   "metadata": {},
   "outputs": [
    {
     "data": {
      "text/plain": [
       "array([[  0.,   0.,   0.],\n",
       "       [  0.,  -3.,  -6.],\n",
       "       [  0.,  -6., -12.]])"
      ]
     },
     "execution_count": 19,
     "metadata": {},
     "output_type": "execute_result"
    }
   ],
   "source": [
    "l2@u2T"
   ]
  },
  {
   "cell_type": "code",
   "execution_count": 20,
   "metadata": {},
   "outputs": [
    {
     "data": {
      "text/plain": [
       "array([[0., 0., 0.],\n",
       "       [0., 0., 0.],\n",
       "       [0., 0., 1.]])"
      ]
     },
     "execution_count": 20,
     "metadata": {},
     "output_type": "execute_result"
    }
   ],
   "source": [
    "l3@u3T"
   ]
  },
  {
   "cell_type": "code",
   "execution_count": 21,
   "metadata": {},
   "outputs": [
    {
     "data": {
      "text/plain": [
       "array([[ 1.,  2.,  3.],\n",
       "       [ 4.,  5.,  6.],\n",
       "       [ 7.,  8., 10.]])"
      ]
     },
     "execution_count": 21,
     "metadata": {},
     "output_type": "execute_result"
    }
   ],
   "source": [
    "l1@u1T + l2@u2T + l3@u3T"
   ]
  },
  {
   "cell_type": "markdown",
   "metadata": {},
   "source": [
    "## Pivoting"
   ]
  },
  {
   "cell_type": "markdown",
   "metadata": {},
   "source": [
    "One of the main ingredients of the LU decomposition is the computation of the multipliers to be stored in matrix $L$ at each iteration $k$, computed as\n",
    "$$L_{i,k} = \\dfrac{U_{i,k}}{U_{k,k}},\\quad i=k+1,\\ldots,n-1$$"
   ]
  },
  {
   "cell_type": "markdown",
   "metadata": {},
   "source": [
    "**Issue:** when $|U_{i,k}|>|U_{k,k}|$ it holds $|L_{i,k}|>1$. When performing the updates the products $L_{i,k}*U_{k,j}$ may amplify the round-off error in $U$, thus leading to instability of the LU decomposition."
   ]
  },
  {
   "cell_type": "markdown",
   "metadata": {},
   "source": [
    "**Solution:** At each step $k$ one performs a row permutation (if needed) such that the pivot satisfies\n",
    "$$U_{k,k} = \\max_{k\\leq i\\leq n-1} U_{i,k},$$\n",
    "thus guaranteeing that $|L_{i,k}|\\leq 1$ for all $i=1,\\ldots,n-1$ and $k=0,\\ldots,i-1$."
   ]
  },
  {
   "cell_type": "code",
   "execution_count": 22,
   "metadata": {},
   "outputs": [
    {
     "name": "stdout",
     "output_type": "stream",
     "text": [
      "norm(LU-A):\n",
      "13.490737563232042\n",
      "norm(PLU-A):\n",
      "0.0\n"
     ]
    },
    {
     "data": {
      "image/png": "[encoded data removed]",
      "text/plain": [
       "<Figure size 640x480 with 3 Axes>"
      ]
     },
     "metadata": {},
     "output_type": "display_data"
    }
   ],
   "source": [
    "import scipy.linalg as spl # SciPy Linear Algebra Library\n",
    "import matplotlib.pyplot as plt\n",
    "\n",
    "P,L,U = spl.lu(A)\n",
    "\n",
    "plt.subplot(1,3,1)\n",
    "plt.spy(P)\n",
    "\n",
    "plt.subplot(1,3,2)\n",
    "plt.spy(L)\n",
    "\n",
    "plt.subplot(1,3,3)\n",
    "plt.spy(U)\n",
    "\n",
    "print(\"norm(LU-A):\")\n",
    "print(np.linalg.norm(L@U-A))\n",
    "\n",
    "print(\"norm(PLU-A):\")\n",
    "print(np.linalg.norm(P@L@U-A))"
   ]
  },
  {
   "cell_type": "markdown",
   "metadata": {},
   "source": [
    "Permutation matrices use more memory than necessary since they are nothing but a row reorder of $L$.\n",
    "We don't need a full matrix to represent this and instead can use indices for the permutation information: "
   ]
  },
  {
   "cell_type": "code",
   "execution_count": 23,
   "metadata": {},
   "outputs": [],
   "source": [
    "p, L, U = spl.lu(A,p_indices=True)"
   ]
  },
  {
   "cell_type": "markdown",
   "metadata": {},
   "source": [
    "One can reconstruct the permutation matrix from the indices by `print(np.eye(4)[p, :])`"
   ]
  },
  {
   "cell_type": "code",
   "execution_count": 24,
   "metadata": {},
   "outputs": [],
   "source": [
    "P2 = np.eye(A.shape[0])[p, :]"
   ]
  },
  {
   "cell_type": "markdown",
   "metadata": {},
   "source": [
    "Let's see how pivoting affects the solution of the linear system used in the example above.\n",
    "We first determine the solution to the system $PLy = b$ and then we solve the system $Ux=y$"
   ]
  },
  {
   "cell_type": "code",
   "execution_count": 25,
   "metadata": {},
   "outputs": [
    {
     "data": {
      "text/plain": [
       "<matplotlib.image.AxesImage at 0x10e768f50>"
      ]
     },
     "execution_count": 25,
     "metadata": {},
     "output_type": "execute_result"
    },
    {
     "data": {
      "image/png": "[encoded data removed]",
      "text/plain": [
       "<Figure size 640x480 with 1 Axes>"
      ]
     },
     "metadata": {},
     "output_type": "display_data"
    }
   ],
   "source": [
    "plt.spy(L[p,:])"
   ]
  }
 ],
 "metadata": {
  "kernelspec": {
   "display_name": "Python 3 (ipykernel)",
   "language": "python",
   "name": "python3"
  },
  "language_info": {
   "codemirror_mode": {
    "name": "ipython",
    "version": 3
   },
   "file_extension": ".py",
   "mimetype": "text/x-python",
   "name": "python",
   "nbconvert_exporter": "python",
   "pygments_lexer": "ipython3",
   "version": "3.12.4"
  }
 },
 "nbformat": 4,
 "nbformat_minor": 4
}
