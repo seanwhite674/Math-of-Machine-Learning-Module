{
 "cells": [
  {
   "cell_type": "markdown",
   "metadata": {},
   "source": [
    "# Gaussian elimination and LU decomposition\n",
    "\n",
    "Say we want to compute the solution of\n",
    "$$Ax = b$$\n",
    "for the vector $x$. We learn how to do this by transforming it to the problem of solving\n",
    "$$U x = y$$\n",
    "where $U$ is an upper-triangular matrix obtained by performing Gaussian elimiantion on $A$ and $y$ is obtained by performing the same operations on $b$. We can then use back substitution to solve $Ux=y$ more easily than solving $Ax=b$ directly.\n",
    "\n",
    "This approach is directly related to the LU decomposition of a matrix, where we wish to factor a matrix $A$ into a product of a lower triangular matrix $L$ and an upper triangular matrix $U$ to give $A = LU$. To understand how to compute the LU decomposition of a matrix, let us start by reminding ourselves of how to do Gaussian elimination.\n",
    "\n",
    "## Gaussian elimination by hand\n",
    "\n",
    "To start, consider the following 3x3 matrix\n",
    "$$ A = \\begin{bmatrix} 1 & 2 & 3 \\\\ 4 & 5 & 6 \\\\ 7 & 8 & 10 \\end{bmatrix}$$\n",
    "\n",
    "1. Use Gaussian elimination to transform this by hand to an upper triangular matrix $U$ (in row echelon form). Record each elementary row operation you perform along the way.\n",
    "\n",
    "2. Apply the same sequence of row operations to the vector\n",
    "$$b = \\begin{bmatrix} 1 \\\\ 2 \\\\ 3 \\end{bmatrix}$$\n",
    "to obtain the transformed vector $y$.\n",
    "\n",
    "3. Use back substitution to solve $U x = y$."
   ]
  },
  {
   "cell_type": "markdown",
   "metadata": {},
   "source": [
    "## Gaussian elimination in Python\n",
    "\n",
    "We will now transform the previous algorithm into Python code. First of all define the matrix $A$ and the vector $b$:"
   ]
  },
  {
   "cell_type": "code",
   "execution_count": 2,
   "metadata": {},
   "outputs": [],
   "source": [
    "import numpy as np\n",
    "\n",
    "A = ...\n",
    "b = ...\n",
    "n = ... # Size of the matrix"
   ]
  },
  {
   "cell_type": "markdown",
   "metadata": {},
   "source": [
    "Now perform Gaussian elimination and store the result in a matrix $U$ and a vector $y$. Keep track of the multiplication factors for each step in a matrix $L$."
   ]
  },
  {
   "cell_type": "code",
   "execution_count": null,
   "metadata": {},
   "outputs": [],
   "source": [
    "U = np.array(A, dtype=float)\n",
    "y = np.array(b, dtype=float)\n",
    "L = np.identity(n)\n",
    "\n",
    "# loop over columns and transform to get zeros below the pivot\n",
    "for ...:\n",
    "    # loop over all rows below the pivot\n",
    "    for ...:\n",
    "        # Store the multiplication factors in the matrix L\n",
    "        ...\n",
    "\n",
    "        # Subtract a multiple of row k from row i\n",
    "        ..."
   ]
  },
  {
   "cell_type": "code",
   "execution_count": null,
   "metadata": {},
   "outputs": [],
   "source": [
    "L"
   ]
  },
  {
   "cell_type": "code",
   "execution_count": null,
   "metadata": {
    "scrolled": true
   },
   "outputs": [],
   "source": [
    "U"
   ]
  },
  {
   "cell_type": "code",
   "execution_count": null,
   "metadata": {},
   "outputs": [],
   "source": [
    "y"
   ]
  },
  {
   "cell_type": "markdown",
   "metadata": {},
   "source": [
    "**Observation:** it is easy to check that $y$ can be obtained as the solution of the system $Ly=b$"
   ]
  },
  {
   "cell_type": "code",
   "execution_count": null,
   "metadata": {},
   "outputs": [],
   "source": [
    "print(np.linalg.solve(L,b))"
   ]
  },
  {
   "cell_type": "markdown",
   "metadata": {},
   "source": [
    "If we consider how many operations this took, there are: ($n$ iterations of the outer loop) x ($n-(k+1)$) iterations of the inner loop) x (n multiplications for the subtraction). This means we require $\\mathcal{O}(n^3)$ operations for the Gaussian elimination step."
   ]
  },
  {
   "cell_type": "markdown",
   "metadata": {},
   "source": [
    "Let us now solve for $x$ using back substitution on $U x = y$."
   ]
  },
  {
   "cell_type": "code",
   "execution_count": null,
   "metadata": {
    "scrolled": true
   },
   "outputs": [],
   "source": [
    "x = np.zeros(n)\n",
    "\n",
    "# Start with the last entry in x\n",
    "x[n-1] = ...\n",
    "    \n",
    "# Iterate upwards from the second last entry to the first entry\n",
    "for ...:\n",
    "    # Subtract all of the previously computed values from y, then divide by U[i,i]\n",
    "    ..."
   ]
  },
  {
   "cell_type": "code",
   "execution_count": null,
   "metadata": {},
   "outputs": [],
   "source": [
    "x"
   ]
  },
  {
   "cell_type": "code",
   "execution_count": null,
   "metadata": {},
   "outputs": [],
   "source": [
    "A@x"
   ]
  },
  {
   "cell_type": "markdown",
   "metadata": {},
   "source": [
    "We can check that our original matrix is given by $A=LU$:"
   ]
  },
  {
   "cell_type": "code",
   "execution_count": null,
   "metadata": {},
   "outputs": [],
   "source": [
    "L@U"
   ]
  },
  {
   "cell_type": "markdown",
   "metadata": {},
   "source": [
    "## Gaussian elimination by matrix multiplication\n",
    "\n",
    "We could consider each of the steps in Gaussian elimination in terms of multiplication on the left by a sequence of *elementary elimination matrices*. These come in three forms:\n",
    "\n",
    "1. Multiplying row $i$ by a scalar $c$: $\\mathbf{r}_i \\to c\\, \\mathbf{r}_i$. This is equivalent to pre-multiplying by a matrix with $1$'s along the diagonal and c in the $i$-th diagonal,$$E_1(i, c) = \\begin{bmatrix}\n",
    "  1 &        &   &   &   &        &   \\\\\n",
    "    & \\ddots &   &   &   &        &   \\\\\n",
    "    &        & 1 &   &   &        &   \\\\\n",
    "    &        &   & c &   &        &   \\\\\n",
    "    &        &   &   & 1 &        &   \\\\\n",
    "    &        &   &   &   & \\ddots &   \\\\\n",
    "    &        &   &   &   &        & 1\n",
    "\\end{bmatrix}$$\n",
    "Note that the inverse is given by $E_1(c)^{-1} = E_1(c^{-1})$.\n",
    "\n",
    "2. Add a multiple $c$ of row $j$ to row $i$: $\\mathbf{r}_i \\to \\mathbf{r}_i  + c\\, \\mathbf{r}_j$. This is equivalent to premultiplying by a matrix with $1$'s along the diagonal and $c$ in $(i, j)$-th entry:\n",
    "$$E_2(i,j,c) = \\begin{bmatrix}\n",
    "  1 &        &   &        &   &        &   \\\\\n",
    "    & \\ddots &   &        &   &        &   \\\\\n",
    "    &        & 1 &        &   &        &   \\\\\n",
    "    &        &   & \\ddots &   &        &   \\\\\n",
    "    &        & c &        & 1 &        &   \\\\\n",
    "    &        &   &        &   & \\ddots &   \\\\\n",
    "    &        &   &        &   &        & 1\n",
    "\\end{bmatrix}$$\n",
    "In this case the inverse is given by $E_2(c)^{-1} = E_2(-c)$.\n",
    "\n",
    "3. Interchanging rows $i$ and $j$: $\\mathbf{r}_i \\leftrightarrow \\mathbf{r}_j$. This is equivalent to pre-multiplying by a matrix which is the identity with rows $i$ and $j$ swapped: $$E_3(i,j) = \\begin{bmatrix}\n",
    "  1 &        &   &        &   &        &   \\\\\n",
    "    & \\ddots &   &        &   &        &   \\\\\n",
    "    &        & 0 &        & 1 &        &   \\\\\n",
    "    &        &   & \\ddots &   &        &   \\\\\n",
    "    &        & 1 &        & 0 &        &   \\\\\n",
    "    &        &   &        &   & \\ddots &   \\\\\n",
    "    &        &   &        &   &        & 1\n",
    "\\end{bmatrix}$$\n",
    "In this case the $E_3$ is a permutation matrix and it is its own inverse $E_3^{-1} = E_3$."
   ]
  },
  {
   "cell_type": "markdown",
   "metadata": {},
   "source": [
    "Let's work out the sequence of elimination matrices we need to perform the Gaussian elimination from the previous example. First, we define Python functions produce each of the three types of elimination matrix:"
   ]
  },
  {
   "cell_type": "code",
   "execution_count": null,
   "metadata": {},
   "outputs": [],
   "source": [
    "def E1(i,c):\n",
    "    e1 = np.identity(n)\n",
    "    e1[i, i] = c\n",
    "    return e1\n",
    "\n",
    "def E2(i,j,c):\n",
    "    e2 = np.identity(n)\n",
    "    e2[i, j] = c\n",
    "    return e2\n",
    "\n",
    "def E3(i,j):\n",
    "    e3 = np.identity(n)\n",
    "    e3[i, i] = 0\n",
    "    e3[j, j] = 0\n",
    "    e3[i, j] = 1\n",
    "    e3[j, i] = 1\n",
    "    return e3"
   ]
  },
  {
   "cell_type": "markdown",
   "metadata": {},
   "source": [
    "Now, we can see that the Gaussian elimination steps correspond to\n",
    "$$ U = E_2(2,1,-2) E_2(2,0,-7) E_2(1,0,-4) A$$\n",
    "Apply these in turn (from right to left):"
   ]
  },
  {
   "cell_type": "code",
   "execution_count": null,
   "metadata": {
    "scrolled": true
   },
   "outputs": [],
   "source": [
    "..."
   ]
  },
  {
   "cell_type": "code",
   "execution_count": null,
   "metadata": {
    "scrolled": true
   },
   "outputs": [],
   "source": [
    "..."
   ]
  },
  {
   "cell_type": "code",
   "execution_count": null,
   "metadata": {},
   "outputs": [],
   "source": [
    "..."
   ]
  },
  {
   "cell_type": "markdown",
   "metadata": {},
   "source": [
    "We therefore have\n",
    "$$\n",
    "\\begin{aligned}\n",
    "A &= [E_2(2,1,-2) E_2(2,0,-7) E_2(1,0,-4)]^{-1} U \\\\\n",
    "  &= E_2(1,0,-4)^{-1} E_2(2,0,-7)^{-1} E_2(2,1,-2)^{-1} U \\\\\n",
    "  &= E_2(1,0,4) E_2(2,0,7) E_2(2,1,2) U \\\\\n",
    "  &= L U\n",
    "\\end{aligned}\n",
    "$$\n",
    "so we have $L$ in terms of elementry elimination matrices."
   ]
  },
  {
   "cell_type": "code",
   "execution_count": null,
   "metadata": {},
   "outputs": [],
   "source": [
    "L_elim = ..."
   ]
  },
  {
   "cell_type": "markdown",
   "metadata": {},
   "source": [
    "## LU decomposition and rank-1 matrices\n",
    "\n",
    "In the lecture videos we emphasized the idea of matrix multiplication in terms of columns-times-rows and the related idea of breaking a matrix into a sum of rank-1 matrices. Now, let's see how this gives a different way of looking at the LU decomposition.\n",
    "\n",
    "The idea is that we would like to split $A$ into a rank-1 piece that picks out the first row and first column, plus a rank-1 piece that picks out the next row and column, and so on:\n",
    "$$\n",
    "\\begin{aligned}\n",
    "A = \\begin{bmatrix} 1 & 2 & 3 \\\\ 4 & 5 & 6 \\\\ 7 & 8 & 10 \\end{bmatrix}\n",
    " &= \\begin{bmatrix} 1 & 2 & 3 \\\\ 4 & \\_ & \\_ \\\\ 7 & \\_ & \\_ \\end{bmatrix}\n",
    "   + \\begin{bmatrix} 0 & 0 & 0 \\\\ 0 & \\_ & \\_ \\\\ 0 & \\_ & \\_ \\end{bmatrix} \n",
    "   + \\begin{bmatrix} 0 & 0 & 0 \\\\ 0 & 0 & 0 \\\\ 0 & 0 & \\_ \\end{bmatrix}\n",
    "\\end{aligned}\n",
    "$$\n",
    "Fill in all the blanks here by insisting that each term is rank-1 and that we recover $A$. First, do it by hand, then write python code to generate the same rank-1 matrices from the rows and columns of $L$ and $U$."
   ]
  },
  {
   "cell_type": "code",
   "execution_count": null,
   "metadata": {},
   "outputs": [],
   "source": [
    "..."
   ]
  },
  {
   "cell_type": "markdown",
   "metadata": {},
   "source": [
    "## Pivoting"
   ]
  },
  {
   "cell_type": "markdown",
   "metadata": {},
   "source": [
    "One of the main ingredients of the LU decomposition is the computation of the multipliers to be stored in matrix $L$ at each iteration $k$, computed as\n",
    "$$L_{i,k} = \\dfrac{U_{i,k}}{U_{k,k}},\\quad i=k+1,\\ldots,n-1$$"
   ]
  },
  {
   "cell_type": "markdown",
   "metadata": {},
   "source": [
    "**Issue:** when $|U_{i,k}|>|U_{k,k}|$ it holds $|L_{i,k}|>1$. When performing the updates the products $L_{i,k}*U_{k,j}$ may amplify the round-off error in $U$, thus leading to instability of the LU decomposition."
   ]
  },
  {
   "cell_type": "markdown",
   "metadata": {},
   "source": [
    "**Solution:** At each step $k$ one performs a row permutation (if needed) such that the pivot satisfies\n",
    "$$U_{k,k} = \\max_{k\\leq i\\leq n-1} U_{i,k},$$\n",
    "thus guaranteeing that $|L_{i,k}|\\leq 1$ for all $i=1,\\ldots,n-1$ and $k=0,\\ldots,i-1$."
   ]
  },
  {
   "cell_type": "code",
   "execution_count": null,
   "metadata": {},
   "outputs": [],
   "source": [
    "import scipy.linalg as spl # SciPy Linear Algebra Library\n",
    "import matplotlib.pyplot as plt\n",
    "\n",
    "P,L,U = spl.lu(A)\n",
    "\n",
    "plt.subplot(1,3,1)\n",
    "plt.spy(P)\n",
    "\n",
    "plt.subplot(1,3,2)\n",
    "plt.spy(L)\n",
    "\n",
    "plt.subplot(1,3,3)\n",
    "plt.spy(U)\n",
    "\n",
    "print(\"norm(LU-A):\")\n",
    "print(np.linalg.norm(L@U-A))\n",
    "\n",
    "print(\"norm(PLU-A):\")\n",
    "print(np.linalg.norm(P@L@U-A))"
   ]
  },
  {
   "cell_type": "markdown",
   "metadata": {},
   "source": [
    "Permutation matrices use more memory than necessary since they are nothing but a row reorder of $L$.\n",
    "We don't need a full matrix to represent this and instead can use indices for the permutation information: "
   ]
  },
  {
   "cell_type": "code",
   "execution_count": null,
   "metadata": {},
   "outputs": [],
   "source": [
    "p, L, U = spl.lu(A,p_indices=True)"
   ]
  },
  {
   "cell_type": "markdown",
   "metadata": {},
   "source": [
    "One can reconstruct the permutation matrix from the indices by `print(np.eye(4)[p, :])`"
   ]
  },
  {
   "cell_type": "code",
   "execution_count": null,
   "metadata": {},
   "outputs": [],
   "source": [
    "P2 = np.eye(A.shape[0])[p, :]"
   ]
  },
  {
   "cell_type": "markdown",
   "metadata": {},
   "source": [
    "Let's see how pivoting affects the solution of the random linear system used in the example above.\n",
    "We first determine the solution to the system $PLy = b$ and then we solve the system $Ux=y$"
   ]
  },
  {
   "cell_type": "code",
   "execution_count": null,
   "metadata": {},
   "outputs": [],
   "source": [
    "plt.spy(L[p,:])"
   ]
  }
 ],
 "metadata": {
  "kernelspec": {
   "display_name": "Python 3 (ipykernel)",
   "language": "python",
   "name": "python3"
  },
  "language_info": {
   "codemirror_mode": {
    "name": "ipython",
    "version": 3
   },
   "file_extension": ".py",
   "mimetype": "text/x-python",
   "name": "python",
   "nbconvert_exporter": "python",
   "pygments_lexer": "ipython3",
   "version": "3.12.4"
  }
 },
 "nbformat": 4,
 "nbformat_minor": 4
}
