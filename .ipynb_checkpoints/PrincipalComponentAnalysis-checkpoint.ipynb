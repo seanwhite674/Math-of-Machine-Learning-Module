{
 "cells": [
  {
   "cell_type": "markdown",
   "metadata": {},
   "source": [
    "# Principal component analysis"
   ]
  },
  {
   "cell_type": "code",
   "execution_count": null,
   "metadata": {},
   "outputs": [],
   "source": [
    "import numpy as np\n",
    "import numpy.linalg as npl\n",
    "import matplotlib.pyplot as plt"
   ]
  },
  {
   "cell_type": "markdown",
   "metadata": {},
   "source": [
    "## Finding important directions\n",
    "\n",
    "We have seen in the lectures how Principal Component Analysis can be used to find the \"most important directions\" in data.\n",
    "Starting from the data matrix $X$ the principal components are obtained by first computing the SVD of $X$, i.e.\n",
    "$$X=U\\Sigma V^T$$\n",
    "Then we compute the first $k$ principal components by selecting the columns of $U$ (which are referred-to as *feature vectors*) and projeting the points in $X$ along the directions determined by the $k$ feature vectors. Let's try it out with a simple 2D dataset that roughly fits on a line:"
   ]
  },
  {
   "cell_type": "code",
   "execution_count": null,
   "metadata": {},
   "outputs": [],
   "source": [
    "[x,y] = np.array([[x,3 + 2*x + 0.6*np.random.randn()] for x in np.linspace(0,5,1001)]).T"
   ]
  },
  {
   "cell_type": "code",
   "execution_count": null,
   "metadata": {},
   "outputs": [],
   "source": [
    "plt.plot(x,y,\".\")\n",
    "plt.show()"
   ]
  },
  {
   "cell_type": "markdown",
   "metadata": {},
   "source": [
    "In the video lectures we had the matrix of data with rows corresponding to the variables and columns corresponding to the samples (measurements of those variables). Here, we work with the standard convention in statistics and have rows for samples and columns for variables so we will need to keep in mind this different convention."
   ]
  },
  {
   "cell_type": "markdown",
   "metadata": {},
   "source": [
    "The first thing we need to do is subtract the mean in each column (i.e. standardize the data):"
   ]
  },
  {
   "cell_type": "code",
   "execution_count": null,
   "metadata": {},
   "outputs": [],
   "source": [
    "x = x-np.mean(x)\n",
    "y = y-np.mean(y)\n",
    "standardizedData = np.array([x,y]).T"
   ]
  },
  {
   "cell_type": "code",
   "execution_count": null,
   "metadata": {},
   "outputs": [],
   "source": [
    "plt.plot(x,y,\".\")\n",
    "plt.show()"
   ]
  },
  {
   "cell_type": "markdown",
   "metadata": {},
   "source": [
    "Next we compute the singular value decomposition."
   ]
  },
  {
   "cell_type": "code",
   "execution_count": null,
   "metadata": {},
   "outputs": [],
   "source": [
    "U,Svec,VT = npl.svd(standardizedData)\n",
    "S = np.zeros(standardizedData.shape)\n",
    "np.fill_diagonal(S,Svec)\n",
    "Svec"
   ]
  },
  {
   "cell_type": "markdown",
   "metadata": {},
   "source": [
    "As expected, we have two singular values, one which is much larger than the other. This reflects the fact that there is much more variance along the line than orthogonal to it."
   ]
  },
  {
   "cell_type": "markdown",
   "metadata": {},
   "source": [
    "The singular vectors in the columns of V give us the \"most important\" directions in the data."
   ]
  },
  {
   "cell_type": "code",
   "execution_count": null,
   "metadata": {},
   "outputs": [],
   "source": [
    "# Plot standardized data\n",
    "plt.plot(x,y,\".\")\n",
    "\n",
    "# First principal component\n",
    "plt.plot([0,Svec[0]*VT[0,0]/np.sqrt(x.size -1)],\n",
    "         [0, Svec[0]*VT[0,1]/np.sqrt(x.size -1)], \"r-\")\n",
    "\n",
    "# Second principal component\n",
    "plt.plot([0, Svec[1]*VT[1,0]/np.sqrt(x.size -1)],\n",
    "         [0, Svec[1]*VT[1,1]/np.sqrt(x.size -1)],\"b-\")\n",
    "\n",
    "plt.axis('equal')\n",
    "\n",
    "plt.show()"
   ]
  },
  {
   "cell_type": "markdown",
   "metadata": {},
   "source": [
    "The singular vectors in the columns of U give us the projection of the data long those \"most important\" directions (i.e. the same as standardizedData.V)"
   ]
  },
  {
   "cell_type": "code",
   "execution_count": null,
   "metadata": {},
   "outputs": [],
   "source": [
    "# Plot projected data\n",
    "[x_proj, y_proj] = (U[:,:2]@S[:2,:2]).T\n",
    "plt.plot(x_proj, y_proj, \".\")\n",
    "plt.show()"
   ]
  },
  {
   "cell_type": "markdown",
   "metadata": {},
   "source": [
    "### In higher dimensions\n",
    "\n",
    "Everything is the same with higher dimensional data. To see this, let's construct a 3-dimensional dataset with 3 variables:"
   ]
  },
  {
   "cell_type": "code",
   "execution_count": null,
   "metadata": {},
   "outputs": [],
   "source": [
    "[x,y,z] = np.array([[x,3 + 2*x + 0.6*np.random.randn(),7 + 4*x + 6*np.random.randn()]\n",
    "                    for x in np.linspace(0,5,1001)]).T"
   ]
  },
  {
   "cell_type": "code",
   "execution_count": null,
   "metadata": {
    "scrolled": true
   },
   "outputs": [],
   "source": [
    "fig = plt.figure()\n",
    "ax = fig.add_subplot(projection='3d')\n",
    "ax.scatter(x,y,z)\n",
    "plt.show()"
   ]
  },
  {
   "cell_type": "markdown",
   "metadata": {},
   "source": [
    "In this case we choose to standardise by subtracting the mean and dividing by the standard deviation:"
   ]
  },
  {
   "cell_type": "code",
   "execution_count": null,
   "metadata": {},
   "outputs": [],
   "source": [
    "x = (x-np.mean(x))/np.std(x)\n",
    "y = (y-np.mean(y))/np.std(y)\n",
    "z = (z-np.mean(z))/np.std(z)\n",
    "standardizedData = np.array([x,y,z]).T"
   ]
  },
  {
   "cell_type": "markdown",
   "metadata": {},
   "source": [
    "Next we compute the singular value decomposition."
   ]
  },
  {
   "cell_type": "code",
   "execution_count": null,
   "metadata": {
    "scrolled": true
   },
   "outputs": [],
   "source": [
    "U,Svec,VT = npl.svd(standardizedData)\n",
    "S = np.zeros(standardizedData.shape)\n",
    "np.fill_diagonal(S,Svec)\n",
    "Svec"
   ]
  },
  {
   "cell_type": "markdown",
   "metadata": {},
   "source": [
    "This time we have three singular values, as expected. The singular vectors in the columns of V give us the \"most important\" directions in the data:"
   ]
  },
  {
   "cell_type": "code",
   "execution_count": null,
   "metadata": {},
   "outputs": [],
   "source": [
    "fig = plt.figure()\n",
    "ax = fig.add_subplot(projection='3d')\n",
    "ax.scatter(x,y,z, s=0.2)\n",
    "# First principal component\n",
    "ax.plot([0,Svec[0]*VT[0,0]/np.sqrt(x.size -1)],\n",
    "         [0, Svec[0]*VT[0,1]/np.sqrt(x.size -1)],\n",
    "         [0, Svec[0]*VT[0,2]/np.sqrt(x.size -1)],\"r-\")\n",
    "\n",
    "# Second principal component\n",
    "ax.plot([0,-Svec[1]*VT[1,0]/np.sqrt(x.size -1)],\n",
    "         [0, -Svec[1]*VT[1,1]/np.sqrt(x.size -1)],\n",
    "         [0, -Svec[1]*VT[1,2]/np.sqrt(x.size -1)],\"b-\")\n",
    "\n",
    "\n",
    "# Third principal component\n",
    "ax.plot([0,-Svec[2]*VT[2,0]/np.sqrt(x.size -1)],\n",
    "         [0, -Svec[2]*VT[2,1]/np.sqrt(x.size -1)],\n",
    "         [0, -Svec[2]*VT[2,2]/np.sqrt(x.size -1)],\"k-\")\n",
    "\n",
    "plt.show()"
   ]
  },
  {
   "cell_type": "markdown",
   "metadata": {},
   "source": [
    "The singular vectors in the columns of U give us the projection of the data long those \"most important\" directions (i.e. the same as standardizedData.V)"
   ]
  },
  {
   "cell_type": "code",
   "execution_count": null,
   "metadata": {},
   "outputs": [],
   "source": [
    "# Plot projected data\n",
    "[x_proj, y_proj, z_proj] = (U[:,:3]@S[:3,:3]).T\n",
    "fig = plt.figure()\n",
    "ax = fig.add_subplot(projection='3d')\n",
    "ax.scatter(x_proj, y_proj, z_proj)\n",
    "plt.show()"
   ]
  },
  {
   "attachments": {
    "a723528c-db0f-46e8-b45f-0fdbd7290be3.png": {
     "image/png": "[encoded data removed]"
    }
   },
   "cell_type": "markdown",
   "metadata": {},
   "source": [
    "## PCA and classification\n",
    "\n",
    "Let's now use PCA for _classification_. In particular, we will identify the type of a flower based on measurements of their properties. We will work with a dataset of iris flowers:\n",
    "\n",
    "![image.png](attachment:a723528c-db0f-46e8-b45f-0fdbd7290be3.png)\n",
    "\n",
    "These come in three different categories: setosa, versicolor and virginica. The iris dataset contains 4 variables for the length and width of the sepals and petals (in centimeters). Let's load the data:"
   ]
  },
  {
   "cell_type": "code",
   "execution_count": null,
   "metadata": {},
   "outputs": [],
   "source": [
    "from sklearn.datasets import load_iris\n",
    "iris = load_iris()"
   ]
  },
  {
   "cell_type": "code",
   "execution_count": null,
   "metadata": {},
   "outputs": [],
   "source": [
    "[iris.feature_names,iris.target_names]"
   ]
  },
  {
   "cell_type": "code",
   "execution_count": null,
   "metadata": {},
   "outputs": [],
   "source": [
    "iris.data.shape"
   ]
  },
  {
   "cell_type": "markdown",
   "metadata": {},
   "source": [
    "Let's first try to plot the data. This is a 4-dimensional dataset (one dimension for each variable) so we don't have an easy way to visualise it all. Instead, let's use PCA to visualise the three most important dimensions. We do this as before: standardize the data, use the SVD to find the principal components and the projection of the data onto those components (we could also un-standardize the result for plotting, but let's not bother with that step here)."
   ]
  },
  {
   "cell_type": "code",
   "execution_count": null,
   "metadata": {},
   "outputs": [],
   "source": [
    "standardizedData = (iris.data-np.mean(iris.data, axis=0))/np.std(iris.data, axis=0)"
   ]
  },
  {
   "cell_type": "code",
   "execution_count": null,
   "metadata": {},
   "outputs": [],
   "source": [
    "U,Svec,VT = npl.svd(standardizedData)\n",
    "S = np.zeros(standardizedData.shape)\n",
    "np.fill_diagonal(S,Svec)\n",
    "Svec"
   ]
  },
  {
   "cell_type": "code",
   "execution_count": null,
   "metadata": {},
   "outputs": [],
   "source": [
    "# Plot projected data\n",
    "[x_proj, y_proj, z_proj] = (U[:,:3]@S[:3,:3]).T\n",
    "fig = plt.figure()\n",
    "ax = fig.add_subplot(projection='3d')\n",
    "ax.scatter(x_proj, y_proj, z_proj, c=iris.target)\n",
    "plt.show()"
   ]
  },
  {
   "cell_type": "markdown",
   "metadata": {},
   "source": [
    "It looks like there is hope for separating out the species based on their properties: we could clearly draw a plane that separates purple from the others. This could be achieved using, e.g. Support Vector Machines. In fact, we could even do this projecting down to 2D:"
   ]
  },
  {
   "cell_type": "code",
   "execution_count": null,
   "metadata": {},
   "outputs": [],
   "source": [
    "# Plot projected data\n",
    "[x_proj_2D, y_proj_2D] = (U[:,:2]@S[:2,:2]).T\n",
    "plt.scatter(x_proj_2D, y_proj_2D, c=iris.target)\n",
    "plt.show()"
   ]
  },
  {
   "cell_type": "markdown",
   "metadata": {},
   "source": [
    "We can go even further than this. We have seen how we can use PCA to project high-dimensional data onto a lower dimensional surface, but we could also reconstruct those projected vectors in the original 4-dimensional space. For example, let's take one sample:"
   ]
  },
  {
   "cell_type": "code",
   "execution_count": null,
   "metadata": {},
   "outputs": [],
   "source": [
    "iris1 = standardizedData[0]\n",
    "iris1"
   ]
  },
  {
   "cell_type": "markdown",
   "metadata": {},
   "source": [
    "We can project this onto the lower-dimensional space:"
   ]
  },
  {
   "cell_type": "code",
   "execution_count": null,
   "metadata": {},
   "outputs": [],
   "source": [
    "U[0,:2]@S[:2,:2]"
   ]
  },
  {
   "cell_type": "markdown",
   "metadata": {},
   "source": [
    "Then we can take these principal components and combine them with the principal component vectors to reconstruct a 4-vector in the original space. This will be the closest point on our lower-dimensional surface to the original 4-dimensional sample:"
   ]
  },
  {
   "cell_type": "code",
   "execution_count": null,
   "metadata": {},
   "outputs": [],
   "source": [
    "U[0,:2]@S[:2,:2]@VT[:2,:]"
   ]
  },
  {
   "cell_type": "markdown",
   "metadata": {},
   "source": [
    "Now let's do this for all sample points and plot the result:"
   ]
  },
  {
   "cell_type": "code",
   "execution_count": null,
   "metadata": {},
   "outputs": [],
   "source": [
    "# Plot projected data\n",
    "[x_proj_3D, y_proj_3D, z_proj_3D] = (U[:,:2]@S[:2,:2]@VT[:2,:3]).T\n",
    "fig = plt.figure()\n",
    "ax = plt.subplot(1,2,1,projection='3d')\n",
    "ax.view_init(elev=10., azim=45)\n",
    "ax.scatter(x_proj, y_proj, z_proj, c=iris.target)\n",
    "ax2 = plt.subplot(1,2,2,projection='3d')\n",
    "ax2.view_init(elev=10., azim=45)\n",
    "ax2.scatter(x_proj_3D, y_proj_3D, z_proj_3D, c=iris.target)\n",
    "plt.show()"
   ]
  },
  {
   "cell_type": "markdown",
   "metadata": {},
   "source": [
    "Finally, we could also use this approach to fill in missing data. For example, say we had missed a measurement for our first setosa sample. We can still project this onto the lower dimensional space and we can reconstruct a 4-dimensional vector from this, \"filling in\" the missing  piece. We won't cover this idea further in this module, but this is a lot of information about this _data imputation_ available online."
   ]
  },
  {
   "cell_type": "markdown",
   "metadata": {},
   "source": [
    "## Handwriting recognition\n",
    "\n",
    "Next we will see an example of use of the PCA with the MNIST dataset for handwritten digit recognition. First we load 10,000 samples for training:"
   ]
  },
  {
   "cell_type": "code",
   "execution_count": null,
   "metadata": {},
   "outputs": [],
   "source": [
    "from sklearn.datasets import fetch_openml\n",
    "\n",
    "def plot_digit(digit):  \n",
    "    # A function to plot a vector of length 784 as a 28 x 28 image\n",
    "    digit_image = digit.reshape(28,28)\n",
    "    plt.imshow(digit_image, cmap = plt.get_cmap('gray'))"
   ]
  },
  {
   "cell_type": "code",
   "execution_count": null,
   "metadata": {},
   "outputs": [],
   "source": [
    "X, y = fetch_openml(\"mnist_784\", version=1, return_X_y=True, as_frame=False)\n",
    "y = y.astype(int)\n",
    "X_01 = X[np.any([y == 0, y == 1], axis = 0)] / 255.0\n",
    "y_01 = y[np.any([y == 0, y == 1], axis = 0)]\n",
    "X = X[:10000]\n",
    "y = y[:10000]\n",
    "(X.shape, y.shape)"
   ]
  },
  {
   "cell_type": "markdown",
   "metadata": {},
   "source": [
    "**Question**: How similar/dissimilar are the digits within each group?"
   ]
  },
  {
   "cell_type": "code",
   "execution_count": null,
   "metadata": {},
   "outputs": [],
   "source": [
    "plt.figure(figsize=(13,25))\n",
    "for i in range(10):  \n",
    "    Xk = X[y==i,:]\n",
    "    Xk = Xk.reshape(Xk.shape[0],28*28)\n",
    "    mean = np.mean(Xk, axis=0)\n",
    "    Xk = np.transpose(Xk-mean)\n",
    "    U,Sval,VT = npl.svd(Xk)\n",
    "    plt.subplot(10,5,1 + 5*i)\n",
    "    plt.semilogy(Sval,linestyle=None,marker='+')\n",
    "    plt.subplot(10,5,2 + 5*i)\n",
    "    plot_digit(U[:,0])\n",
    "    plt.subplot(10,5,3 + 5*i)\n",
    "    plot_digit(U[:,1])\n",
    "    plt.subplot(10,5,4 + 5*i)\n",
    "    plot_digit(U[:,2])\n",
    "    plt.subplot(10,5,5 + 5*i)\n",
    "    plot_digit(U[:,3])\n",
    "\n",
    "plt.show()"
   ]
  },
  {
   "cell_type": "markdown",
   "metadata": {},
   "source": [
    "If we think of each 28 x 28 image as a 784 dimensional vector, then we can consider this as a set of 10,000 samples in a 784 dimensional vector space. A random vector in that space won't look like much, but the 10,000 samples are special as they represent important \"directions\" in this space."
   ]
  },
  {
   "cell_type": "code",
   "execution_count": null,
   "metadata": {},
   "outputs": [],
   "source": [
    "plt.subplot(1,2,1)\n",
    "plot_digit(np.random.randn(28,28))\n",
    "plt.subplot(1,2,2)\n",
    "plot_digit(X[0])\n",
    "plt.show()"
   ]
  },
  {
   "cell_type": "markdown",
   "metadata": {},
   "source": [
    "Let's see if PCA will allow us to identify the important \"directions\" corresponding to zeros and ones, and even to differentiate between them. Let's focus on the classes '0' and '1'. Now that we have a matrix, we can use PCA to reduce the 784 dimensional vectors to just the three most important ones."
   ]
  },
  {
   "cell_type": "code",
   "execution_count": null,
   "metadata": {},
   "outputs": [],
   "source": [
    "mean = np.mean(X_01, axis=0)\n",
    "Xstd = np.transpose(X_01-mean)\n",
    "U,Sval,VT = npl.svd(Xstd)"
   ]
  },
  {
   "cell_type": "code",
   "execution_count": null,
   "metadata": {},
   "outputs": [],
   "source": [
    "Z_01 = U[:,:3].T@Xstd\n",
    "print(Z.shape)"
   ]
  },
  {
   "cell_type": "markdown",
   "metadata": {},
   "source": [
    "We can visualise the first 3 feature vectors"
   ]
  },
  {
   "cell_type": "code",
   "execution_count": null,
   "metadata": {},
   "outputs": [],
   "source": [
    "plt.figure(figsize=(13,10))\n",
    "plt.subplot(1,3,1)\n",
    "plot_digit(U[:,0])\n",
    "plt.subplot(1,3,2)\n",
    "plot_digit(U[:,1])\n",
    "plt.subplot(1,3,3)\n",
    "plot_digit(U[:,2])\n",
    "plt.show()"
   ]
  },
  {
   "cell_type": "markdown",
   "metadata": {},
   "source": [
    "If we now visualise all of those samples on our two-dimensional space, we can quite clearly distinguish between zeros and ones:"
   ]
  },
  {
   "cell_type": "code",
   "execution_count": null,
   "metadata": {},
   "outputs": [],
   "source": [
    "from mpl_toolkits import mplot3d\n",
    "\n",
    "labels_str = [\"0\", \"1\"]\n",
    "fig = plt.figure(figsize=(10, 5))\n",
    "fig.add_subplot(1,2,1)\n",
    "plt.scatter(Z_01[0,:], Z_01[1,:], c=y_01)\n",
    "plt.legend(labels=labels_str, loc=\"lower left\")\n",
    "plt.xlabel('Principal Component 1')\n",
    "plt.ylabel('Principal Component 2')\n",
    "\n",
    "ax = fig.add_subplot(1,2,2,projection='3d')\n",
    "ax.scatter3D(Z_01[0,:], Z_01[1,:],Z_01[2,:], c=y_01,s=5)\n",
    "plt.legend(labels=labels_str, loc=\"lower left\")\n",
    "plt.show()"
   ]
  }
 ],
 "metadata": {
  "kernelspec": {
   "display_name": "Python 3 (ipykernel)",
   "language": "python",
   "name": "python3"
  },
  "language_info": {
   "codemirror_mode": {
    "name": "ipython",
    "version": 3
   },
   "file_extension": ".py",
   "mimetype": "text/x-python",
   "name": "python",
   "nbconvert_exporter": "python",
   "pygments_lexer": "ipython3",
   "version": "3.12.2"
  }
 },
 "nbformat": 4,
 "nbformat_minor": 4
}
