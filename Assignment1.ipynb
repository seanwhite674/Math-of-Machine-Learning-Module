{
 "cells": [
  {
   "cell_type": "markdown",
   "id": "71e18fd4-558e-4bae-b3fb-6ad5f8df55b6",
   "metadata": {},
   "source": [
    "# Q 4 b)"
   ]
  },
  {
   "cell_type": "code",
   "execution_count": 163,
   "id": "e0f656c5-7b70-4e45-b8e6-87c1bb91cc6e",
   "metadata": {},
   "outputs": [],
   "source": [
    "import numpy as np"
   ]
  },
  {
   "cell_type": "code",
   "execution_count": 165,
   "id": "6124b0bf-6b88-4a33-bf16-923a9e947ca5",
   "metadata": {},
   "outputs": [],
   "source": [
    "A = np.array([[2,1,3],[1,9,1],[4,6,5]])\n",
    "n = A.shape[0]"
   ]
  },
  {
   "cell_type": "code",
   "execution_count": 167,
   "id": "bcc365b9-dc81-45a8-bf1c-226b51c239d5",
   "metadata": {},
   "outputs": [],
   "source": [
    "U = np.array(A,dtype = float)\n",
    "L = np.identity(n)\n",
    "\n",
    "for j in range(0,n):\n",
    "    for i in range(j+1,n):\n",
    "        L[i,j] = (U[i,j]/U[j,j])\n",
    "        \n",
    "        U[i,:] = U[i,:] - L[i,j]*U[j,:]"
   ]
  },
  {
   "cell_type": "code",
   "execution_count": 169,
   "id": "1439e1f9-d765-44cd-a4e1-842e428e1aae",
   "metadata": {},
   "outputs": [
    {
     "data": {
      "text/plain": [
       "array([[1.        , 0.        , 0.        ],\n",
       "       [0.5       , 1.        , 0.        ],\n",
       "       [2.        , 0.47058824, 1.        ]])"
      ]
     },
     "execution_count": 169,
     "metadata": {},
     "output_type": "execute_result"
    }
   ],
   "source": [
    "L"
   ]
  },
  {
   "cell_type": "code",
   "execution_count": 171,
   "id": "30ef1f62-166a-430c-a15a-aa221f210be4",
   "metadata": {},
   "outputs": [
    {
     "data": {
      "text/plain": [
       "array([[ 2.        ,  1.        ,  3.        ],\n",
       "       [ 0.        ,  8.5       , -0.5       ],\n",
       "       [ 0.        ,  0.        , -0.76470588]])"
      ]
     },
     "execution_count": 171,
     "metadata": {},
     "output_type": "execute_result"
    }
   ],
   "source": [
    "U"
   ]
  },
  {
   "cell_type": "code",
   "execution_count": 173,
   "id": "1889d38c-548f-450e-a7ed-074aa9334433",
   "metadata": {},
   "outputs": [
    {
     "data": {
      "text/plain": [
       "array([[2, 1, 3],\n",
       "       [1, 9, 1],\n",
       "       [4, 6, 5]])"
      ]
     },
     "execution_count": 173,
     "metadata": {},
     "output_type": "execute_result"
    }
   ],
   "source": [
    "A"
   ]
  },
  {
   "cell_type": "code",
   "execution_count": 175,
   "id": "2ccba973-6965-47cc-8f60-7d9f54278da5",
   "metadata": {},
   "outputs": [
    {
     "data": {
      "text/plain": [
       "array([[2., 1., 3.],\n",
       "       [1., 9., 1.],\n",
       "       [4., 6., 5.]])"
      ]
     },
     "execution_count": 175,
     "metadata": {},
     "output_type": "execute_result"
    }
   ],
   "source": [
    "L@U"
   ]
  },
  {
   "cell_type": "markdown",
   "id": "fef29970-6a4e-4fd7-ab23-f6c7a69548e9",
   "metadata": {},
   "source": [
    "# Q 4c)"
   ]
  },
  {
   "cell_type": "code",
   "execution_count": 224,
   "id": "f7acfab9-75dc-427f-9c66-a6c2380325e2",
   "metadata": {},
   "outputs": [],
   "source": [
    "A = np.array([[2,1,3],[1,9,1],[4,6,5]])\n",
    "n = A.shape[0]"
   ]
  },
  {
   "cell_type": "markdown",
   "id": "23702217-de33-437f-9455-ebfc3add5ee8",
   "metadata": {},
   "source": [
    "### Logic need n elemtary matrices E"
   ]
  },
  {
   "cell_type": "code",
   "execution_count": 227,
   "id": "9cd95115-6564-46f0-9bed-c0f24c18f719",
   "metadata": {},
   "outputs": [],
   "source": [
    "def E2(i,j,c):\n",
    "    e2 = np.identity(n)\n",
    "    e2[i, j] = c\n",
    "    return e2   "
   ]
  },
  {
   "cell_type": "code",
   "execution_count": 229,
   "id": "3b708644-9f6a-43f5-9ea2-f812094e9b58",
   "metadata": {},
   "outputs": [
    {
     "data": {
      "text/plain": [
       "array([[ 1. ,  0. ,  0. ],\n",
       "       [-0.5,  1. ,  0. ],\n",
       "       [ 0. ,  0. ,  1. ]])"
      ]
     },
     "execution_count": 229,
     "metadata": {},
     "output_type": "execute_result"
    }
   ],
   "source": [
    "E2(1,0,-1/2)"
   ]
  },
  {
   "cell_type": "code",
   "execution_count": 231,
   "id": "df9ff859-9fce-4680-a66a-42d42407a356",
   "metadata": {},
   "outputs": [
    {
     "data": {
      "text/plain": [
       "array([[ 1.,  0.,  0.],\n",
       "       [ 0.,  1.,  0.],\n",
       "       [-2.,  0.,  1.]])"
      ]
     },
     "execution_count": 231,
     "metadata": {},
     "output_type": "execute_result"
    }
   ],
   "source": [
    "E2(2,0,-2)"
   ]
  },
  {
   "cell_type": "code",
   "execution_count": 233,
   "id": "6ab69e6e-4157-49c4-94c3-803bf416480c",
   "metadata": {},
   "outputs": [
    {
     "data": {
      "text/plain": [
       "array([[ 1.        ,  0.        ,  0.        ],\n",
       "       [ 0.        ,  1.        ,  0.        ],\n",
       "       [ 0.        , -0.47058824,  1.        ]])"
      ]
     },
     "execution_count": 233,
     "metadata": {},
     "output_type": "execute_result"
    }
   ],
   "source": [
    "E2(2,1,-8/17)"
   ]
  },
  {
   "cell_type": "markdown",
   "id": "37e8977e-13e5-417c-ab27-81516f724624",
   "metadata": {},
   "source": [
    "# $$E_{21}E_{31}E_{32}A=U$$\n",
    "# $$ A=(E_{32})^{-1}(E_{31})^{-1}(E_{21})^{-1}U$$\n",
    "# $$ L= (E_{32})^{-1}(E_{31})^{-1}(E_{21})^{-1}$$\n",
    "### Inverse of identity matrix with one other entry. Just change sign of other entry"
   ]
  },
  {
   "cell_type": "code",
   "execution_count": 236,
   "id": "69750ea6-0f82-45a6-960f-9c5f4527c5f5",
   "metadata": {},
   "outputs": [
    {
     "data": {
      "text/plain": [
       "array([[1.        , 0.        , 0.        ],\n",
       "       [0.5       , 1.        , 0.        ],\n",
       "       [2.        , 0.47058824, 1.        ]])"
      ]
     },
     "execution_count": 236,
     "metadata": {},
     "output_type": "execute_result"
    }
   ],
   "source": [
    "L=E2(1,0,1/2)@E2(2,0,2)@E2(2,1,8/17)\n",
    "L"
   ]
  },
  {
   "cell_type": "code",
   "execution_count": 246,
   "id": "ba0ace9b-997d-48d4-8ec5-30594f8a376e",
   "metadata": {},
   "outputs": [
    {
     "data": {
      "text/plain": [
       "array([[ 2.        ,  1.        ,  3.        ],\n",
       "       [ 0.        ,  8.5       , -0.5       ],\n",
       "       [ 0.        ,  0.        , -0.76470588]])"
      ]
     },
     "execution_count": 246,
     "metadata": {},
     "output_type": "execute_result"
    }
   ],
   "source": [
    "U = E2(2,1,-8/17)@E2(2,0,-2)@E2(1,0,-1/2)@A\n",
    "U"
   ]
  },
  {
   "cell_type": "markdown",
   "id": "2e2af61c-2a8e-4af6-a417-d015a9cf5a4c",
   "metadata": {},
   "source": [
    "# Q4 d)"
   ]
  },
  {
   "cell_type": "code",
   "execution_count": 253,
   "id": "74e2ec05-3db0-4c8a-86a1-7c8d85cf97f5",
   "metadata": {},
   "outputs": [],
   "source": [
    "import scipy.linalg as spl # SciPy Linear Algebra Library\n",
    "import matplotlib.pyplot as plt\n",
    "\n",
    "P,L,U = spl.lu(A)\n"
   ]
  },
  {
   "cell_type": "code",
   "execution_count": 255,
   "id": "00b713e2-e390-4b85-aba1-0a412312f7bb",
   "metadata": {},
   "outputs": [
    {
     "data": {
      "text/plain": [
       "array([[ 4.        ,  6.        ,  5.        ],\n",
       "       [ 0.        ,  7.5       , -0.25      ],\n",
       "       [ 0.        ,  0.        ,  0.43333333]])"
      ]
     },
     "execution_count": 255,
     "metadata": {},
     "output_type": "execute_result"
    }
   ],
   "source": [
    "U"
   ]
  },
  {
   "cell_type": "code",
   "execution_count": 257,
   "id": "f12dab1d-916b-44a5-9f9e-2afdf52b4fed",
   "metadata": {},
   "outputs": [
    {
     "data": {
      "text/plain": [
       "array([[ 1.        ,  0.        ,  0.        ],\n",
       "       [ 0.25      ,  1.        ,  0.        ],\n",
       "       [ 0.5       , -0.26666667,  1.        ]])"
      ]
     },
     "execution_count": 257,
     "metadata": {},
     "output_type": "execute_result"
    }
   ],
   "source": [
    "L"
   ]
  },
  {
   "cell_type": "code",
   "execution_count": 261,
   "id": "2406607e-0e98-435a-aee2-b3a314e0c5d9",
   "metadata": {},
   "outputs": [
    {
     "data": {
      "text/plain": [
       "array([[4., 6., 5.],\n",
       "       [1., 9., 1.],\n",
       "       [2., 1., 3.]])"
      ]
     },
     "execution_count": 261,
     "metadata": {},
     "output_type": "execute_result"
    }
   ],
   "source": [
    "L@U"
   ]
  },
  {
   "cell_type": "code",
   "execution_count": 263,
   "id": "dd1460c6-c6b6-45de-85e4-0722cb5b7aeb",
   "metadata": {},
   "outputs": [
    {
     "data": {
      "text/plain": [
       "array([[4., 6., 5.],\n",
       "       [1., 9., 1.],\n",
       "       [2., 1., 3.]])"
      ]
     },
     "execution_count": 263,
     "metadata": {},
     "output_type": "execute_result"
    }
   ],
   "source": [
    "P@A"
   ]
  },
  {
   "cell_type": "code",
   "execution_count": null,
   "id": "63e528bf-b9f0-47c1-a9f5-36f97465d72c",
   "metadata": {},
   "outputs": [],
   "source": []
  }
 ],
 "metadata": {
  "kernelspec": {
   "display_name": "Python 3 (ipykernel)",
   "language": "python",
   "name": "python3"
  },
  "language_info": {
   "codemirror_mode": {
    "name": "ipython",
    "version": 3
   },
   "file_extension": ".py",
   "mimetype": "text/x-python",
   "name": "python",
   "nbconvert_exporter": "python",
   "pygments_lexer": "ipython3",
   "version": "3.12.4"
  }
 },
 "nbformat": 4,
 "nbformat_minor": 5
}
