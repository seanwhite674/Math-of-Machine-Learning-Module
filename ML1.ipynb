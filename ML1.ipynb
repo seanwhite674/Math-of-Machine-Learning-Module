{
 "cells": [
  {
   "cell_type": "code",
   "execution_count": 10,
   "id": "13cf0b24-3762-413b-9c17-a4aaa04c1cf3",
   "metadata": {},
   "outputs": [],
   "source": [
    "import numpy as np\n",
    "import matplotlib.pyplot as plt\n",
    "import pandas as plt"
   ]
  },
  {
   "cell_type": "code",
   "execution_count": null,
   "id": "79153671-6849-4cc9-81f4-fbc2a4118a35",
   "metadata": {},
   "outputs": [],
   "source": []
  }
 ],
 "metadata": {
  "kernelspec": {
   "display_name": "Python 3 (ipykernel)",
   "language": "python",
   "name": "python3"
  },
  "language_info": {
   "codemirror_mode": {
    "name": "ipython",
    "version": 3
   },
   "file_extension": ".py",
   "mimetype": "text/x-python",
   "name": "python",
   "nbconvert_exporter": "python",
   "pygments_lexer": "ipython3",
   "version": "3.12.4"
  }
 },
 "nbformat": 4,
 "nbformat_minor": 5
}
